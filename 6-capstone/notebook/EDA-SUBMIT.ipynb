{
 "cells": [
  {
   "cell_type": "markdown",
   "metadata": {},
   "source": [
    "# Machine Learning Udacity Capstone Project\n",
    "**\"Sentiment analysis in airline tweets\"**\n",
    "\n",
    "Author: Luis Bronchal<br>Date: September 11, 2017"
   ]
  },
  {
   "cell_type": "markdown",
   "metadata": {},
   "source": [
    "# Exploratory Data Analysis\n",
    "\n",
    "## Summary\n",
    "\n",
    "Basic EDA of the dataset [Twitter US Airline Sentiment](https://www.kaggle.com/crowdflower/twitter-airline-sentiment). We have cleaned and stored the output data to be used in the rest of the notebooks of the capstone.\n"
   ]
  },
  {
   "cell_type": "markdown",
   "metadata": {},
   "source": [
    "## Data loading and cleaning"
   ]
  },
  {
   "cell_type": "code",
   "execution_count": 1,
   "metadata": {
    "collapsed": true
   },
   "outputs": [],
   "source": [
    "%matplotlib inline\n",
    "%config InlineBackend.figure_format = 'retina'\n",
    "\n",
    "import numpy as np\n",
    "import pandas as pd\n",
    "import matplotlib.pyplot as plt\n",
    "import seaborn as sns"
   ]
  },
  {
   "cell_type": "code",
   "execution_count": 2,
   "metadata": {
    "collapsed": true
   },
   "outputs": [],
   "source": [
    "data = pd.read_csv(\"../input/Tweets.csv\")"
   ]
  },
  {
   "cell_type": "code",
   "execution_count": 3,
   "metadata": {},
   "outputs": [
    {
     "data": {
      "text/html": [
       "<div>\n",
       "<style>\n",
       "    .dataframe thead tr:only-child th {\n",
       "        text-align: right;\n",
       "    }\n",
       "\n",
       "    .dataframe thead th {\n",
       "        text-align: left;\n",
       "    }\n",
       "\n",
       "    .dataframe tbody tr th {\n",
       "        vertical-align: top;\n",
       "    }\n",
       "</style>\n",
       "<table border=\"1\" class=\"dataframe\">\n",
       "  <thead>\n",
       "    <tr style=\"text-align: right;\">\n",
       "      <th></th>\n",
       "      <th>tweet_id</th>\n",
       "      <th>airline_sentiment</th>\n",
       "      <th>airline_sentiment_confidence</th>\n",
       "      <th>negativereason</th>\n",
       "      <th>negativereason_confidence</th>\n",
       "      <th>airline</th>\n",
       "      <th>airline_sentiment_gold</th>\n",
       "      <th>name</th>\n",
       "      <th>negativereason_gold</th>\n",
       "      <th>retweet_count</th>\n",
       "      <th>text</th>\n",
       "      <th>tweet_coord</th>\n",
       "      <th>tweet_created</th>\n",
       "      <th>tweet_location</th>\n",
       "      <th>user_timezone</th>\n",
       "    </tr>\n",
       "  </thead>\n",
       "  <tbody>\n",
       "    <tr>\n",
       "      <th>0</th>\n",
       "      <td>570306133677760513</td>\n",
       "      <td>neutral</td>\n",
       "      <td>1.0000</td>\n",
       "      <td>NaN</td>\n",
       "      <td>NaN</td>\n",
       "      <td>Virgin America</td>\n",
       "      <td>NaN</td>\n",
       "      <td>cairdin</td>\n",
       "      <td>NaN</td>\n",
       "      <td>0</td>\n",
       "      <td>@VirginAmerica What @dhepburn said.</td>\n",
       "      <td>NaN</td>\n",
       "      <td>2015-02-24 11:35:52 -0800</td>\n",
       "      <td>NaN</td>\n",
       "      <td>Eastern Time (US &amp; Canada)</td>\n",
       "    </tr>\n",
       "    <tr>\n",
       "      <th>1</th>\n",
       "      <td>570301130888122368</td>\n",
       "      <td>positive</td>\n",
       "      <td>0.3486</td>\n",
       "      <td>NaN</td>\n",
       "      <td>0.0000</td>\n",
       "      <td>Virgin America</td>\n",
       "      <td>NaN</td>\n",
       "      <td>jnardino</td>\n",
       "      <td>NaN</td>\n",
       "      <td>0</td>\n",
       "      <td>@VirginAmerica plus you've added commercials t...</td>\n",
       "      <td>NaN</td>\n",
       "      <td>2015-02-24 11:15:59 -0800</td>\n",
       "      <td>NaN</td>\n",
       "      <td>Pacific Time (US &amp; Canada)</td>\n",
       "    </tr>\n",
       "    <tr>\n",
       "      <th>2</th>\n",
       "      <td>570301083672813571</td>\n",
       "      <td>neutral</td>\n",
       "      <td>0.6837</td>\n",
       "      <td>NaN</td>\n",
       "      <td>NaN</td>\n",
       "      <td>Virgin America</td>\n",
       "      <td>NaN</td>\n",
       "      <td>yvonnalynn</td>\n",
       "      <td>NaN</td>\n",
       "      <td>0</td>\n",
       "      <td>@VirginAmerica I didn't today... Must mean I n...</td>\n",
       "      <td>NaN</td>\n",
       "      <td>2015-02-24 11:15:48 -0800</td>\n",
       "      <td>Lets Play</td>\n",
       "      <td>Central Time (US &amp; Canada)</td>\n",
       "    </tr>\n",
       "    <tr>\n",
       "      <th>3</th>\n",
       "      <td>570301031407624196</td>\n",
       "      <td>negative</td>\n",
       "      <td>1.0000</td>\n",
       "      <td>Bad Flight</td>\n",
       "      <td>0.7033</td>\n",
       "      <td>Virgin America</td>\n",
       "      <td>NaN</td>\n",
       "      <td>jnardino</td>\n",
       "      <td>NaN</td>\n",
       "      <td>0</td>\n",
       "      <td>@VirginAmerica it's really aggressive to blast...</td>\n",
       "      <td>NaN</td>\n",
       "      <td>2015-02-24 11:15:36 -0800</td>\n",
       "      <td>NaN</td>\n",
       "      <td>Pacific Time (US &amp; Canada)</td>\n",
       "    </tr>\n",
       "    <tr>\n",
       "      <th>4</th>\n",
       "      <td>570300817074462722</td>\n",
       "      <td>negative</td>\n",
       "      <td>1.0000</td>\n",
       "      <td>Can't Tell</td>\n",
       "      <td>1.0000</td>\n",
       "      <td>Virgin America</td>\n",
       "      <td>NaN</td>\n",
       "      <td>jnardino</td>\n",
       "      <td>NaN</td>\n",
       "      <td>0</td>\n",
       "      <td>@VirginAmerica and it's a really big bad thing...</td>\n",
       "      <td>NaN</td>\n",
       "      <td>2015-02-24 11:14:45 -0800</td>\n",
       "      <td>NaN</td>\n",
       "      <td>Pacific Time (US &amp; Canada)</td>\n",
       "    </tr>\n",
       "  </tbody>\n",
       "</table>\n",
       "</div>"
      ],
      "text/plain": [
       "             tweet_id airline_sentiment  airline_sentiment_confidence  \\\n",
       "0  570306133677760513           neutral                        1.0000   \n",
       "1  570301130888122368          positive                        0.3486   \n",
       "2  570301083672813571           neutral                        0.6837   \n",
       "3  570301031407624196          negative                        1.0000   \n",
       "4  570300817074462722          negative                        1.0000   \n",
       "\n",
       "  negativereason  negativereason_confidence         airline  \\\n",
       "0            NaN                        NaN  Virgin America   \n",
       "1            NaN                     0.0000  Virgin America   \n",
       "2            NaN                        NaN  Virgin America   \n",
       "3     Bad Flight                     0.7033  Virgin America   \n",
       "4     Can't Tell                     1.0000  Virgin America   \n",
       "\n",
       "  airline_sentiment_gold        name negativereason_gold  retweet_count  \\\n",
       "0                    NaN     cairdin                 NaN              0   \n",
       "1                    NaN    jnardino                 NaN              0   \n",
       "2                    NaN  yvonnalynn                 NaN              0   \n",
       "3                    NaN    jnardino                 NaN              0   \n",
       "4                    NaN    jnardino                 NaN              0   \n",
       "\n",
       "                                                text tweet_coord  \\\n",
       "0                @VirginAmerica What @dhepburn said.         NaN   \n",
       "1  @VirginAmerica plus you've added commercials t...         NaN   \n",
       "2  @VirginAmerica I didn't today... Must mean I n...         NaN   \n",
       "3  @VirginAmerica it's really aggressive to blast...         NaN   \n",
       "4  @VirginAmerica and it's a really big bad thing...         NaN   \n",
       "\n",
       "               tweet_created tweet_location               user_timezone  \n",
       "0  2015-02-24 11:35:52 -0800            NaN  Eastern Time (US & Canada)  \n",
       "1  2015-02-24 11:15:59 -0800            NaN  Pacific Time (US & Canada)  \n",
       "2  2015-02-24 11:15:48 -0800      Lets Play  Central Time (US & Canada)  \n",
       "3  2015-02-24 11:15:36 -0800            NaN  Pacific Time (US & Canada)  \n",
       "4  2015-02-24 11:14:45 -0800            NaN  Pacific Time (US & Canada)  "
      ]
     },
     "execution_count": 3,
     "metadata": {},
     "output_type": "execute_result"
    }
   ],
   "source": [
    "data.head()"
   ]
  },
  {
   "cell_type": "code",
   "execution_count": 4,
   "metadata": {},
   "outputs": [
    {
     "name": "stdout",
     "output_type": "stream",
     "text": [
      "<class 'pandas.core.frame.DataFrame'>\n",
      "RangeIndex: 14640 entries, 0 to 14639\n",
      "Data columns (total 15 columns):\n",
      "tweet_id                        14640 non-null int64\n",
      "airline_sentiment               14640 non-null object\n",
      "airline_sentiment_confidence    14640 non-null float64\n",
      "negativereason                  9178 non-null object\n",
      "negativereason_confidence       10522 non-null float64\n",
      "airline                         14640 non-null object\n",
      "airline_sentiment_gold          40 non-null object\n",
      "name                            14640 non-null object\n",
      "negativereason_gold             32 non-null object\n",
      "retweet_count                   14640 non-null int64\n",
      "text                            14640 non-null object\n",
      "tweet_coord                     1019 non-null object\n",
      "tweet_created                   14640 non-null object\n",
      "tweet_location                  9907 non-null object\n",
      "user_timezone                   9820 non-null object\n",
      "dtypes: float64(2), int64(2), object(11)\n",
      "memory usage: 1.7+ MB\n"
     ]
    }
   ],
   "source": [
    "data.info()"
   ]
  },
  {
   "cell_type": "markdown",
   "metadata": {},
   "source": [
    "There are **14640 rows** and **15 variables**. We are interesed only in **text** variable which is the text of a tweet and **airline_sentiment** variable which is the sentiment associated to that tweet (the outcome variable to predict).\n",
    "\n",
    "Each tweet from the dataset has been hand-labeled by a person. The variable **airline_sentiment_confidence** represents the reliability of the labeling. Because \"garbage in, bargabe out\" we are going to remove the less reliable tweets those with less than 0.65 reliability: "
   ]
  },
  {
   "cell_type": "code",
   "execution_count": 5,
   "metadata": {},
   "outputs": [
    {
     "data": {
      "text/plain": [
       "977"
      ]
     },
     "execution_count": 5,
     "metadata": {},
     "output_type": "execute_result"
    }
   ],
   "source": [
    "np.sum(data['airline_sentiment_confidence'] < 0.65)"
   ]
  },
  {
   "cell_type": "code",
   "execution_count": 6,
   "metadata": {},
   "outputs": [
    {
     "data": {
      "image/png": "[encoded data removed]",
      "text/plain": [
       "<matplotlib.figure.Figure at 0x11f3d7588>"
      ]
     },
     "metadata": {
      "image/png": {
       "height": 304,
       "width": 849
      }
     },
     "output_type": "display_data"
    }
   ],
   "source": [
    "plt.figure(figsize=(14,5))\n",
    "data['airline_sentiment_confidence'].plot(kind=\"hist\", bins=30)\n",
    "plt.axvline(x=0.65, color='r', linestyle='-')\n",
    "plt.show()"
   ]
  },
  {
   "cell_type": "code",
   "execution_count": 7,
   "metadata": {},
   "outputs": [
    {
     "data": {
      "text/plain": [
       "count    14640.000000\n",
       "mean         0.900169\n",
       "std          0.162830\n",
       "min          0.335000\n",
       "25%          0.692300\n",
       "50%          1.000000\n",
       "75%          1.000000\n",
       "max          1.000000\n",
       "Name: airline_sentiment_confidence, dtype: float64"
      ]
     },
     "execution_count": 7,
     "metadata": {},
     "output_type": "execute_result"
    }
   ],
   "source": [
    "data.airline_sentiment_confidence.describe()"
   ]
  },
  {
   "cell_type": "code",
   "execution_count": 8,
   "metadata": {},
   "outputs": [
    {
     "data": {
      "text/plain": [
       "977"
      ]
     },
     "execution_count": 8,
     "metadata": {},
     "output_type": "execute_result"
    }
   ],
   "source": [
    "np.sum(data['airline_sentiment_confidence'] < 0.65)"
   ]
  },
  {
   "cell_type": "code",
   "execution_count": 9,
   "metadata": {},
   "outputs": [
    {
     "data": {
      "text/plain": [
       "0.066734972677595622"
      ]
     },
     "execution_count": 9,
     "metadata": {},
     "output_type": "execute_result"
    }
   ],
   "source": [
    "np.sum(data['airline_sentiment_confidence'] < 0.65) / len(data)"
   ]
  },
  {
   "cell_type": "code",
   "execution_count": 10,
   "metadata": {
    "collapsed": true
   },
   "outputs": [],
   "source": [
    "data_clean = data.copy()\n",
    "data_clean = data_clean[data_clean['airline_sentiment_confidence'] > 0.65]"
   ]
  },
  {
   "cell_type": "markdown",
   "metadata": {},
   "source": [
    "The data is a little bit skewed, with more negative sentiment tweets. There are not missing data for these two variables:"
   ]
  },
  {
   "cell_type": "code",
   "execution_count": 11,
   "metadata": {},
   "outputs": [
    {
     "data": {
      "text/plain": [
       "negative    8787\n",
       "neutral     2700\n",
       "positive    2164\n",
       "Name: airline_sentiment, dtype: int64"
      ]
     },
     "execution_count": 11,
     "metadata": {},
     "output_type": "execute_result"
    }
   ],
   "source": [
    "data_clean['airline_sentiment'].value_counts(dropna = False)"
   ]
  },
  {
   "cell_type": "code",
   "execution_count": 12,
   "metadata": {},
   "outputs": [
    {
     "data": {
      "text/plain": [
       "0"
      ]
     },
     "execution_count": 12,
     "metadata": {},
     "output_type": "execute_result"
    }
   ],
   "source": [
    "np.sum(data_clean['text'].isnull())"
   ]
  },
  {
   "cell_type": "code",
   "execution_count": 13,
   "metadata": {},
   "outputs": [
    {
     "data": {
      "image/png": "[encoded data removed]",
      "text/plain": [
       "<matplotlib.figure.Figure at 0x11f324320>"
      ]
     },
     "metadata": {
      "image/png": {
       "height": 284,
       "width": 383
      }
     },
     "output_type": "display_data"
    }
   ],
   "source": [
    "data_clean['airline_sentiment'].value_counts().plot(kind=\"bar\")\n",
    "plt.show()"
   ]
  },
  {
   "cell_type": "markdown",
   "metadata": {},
   "source": [
    "Because we are interested in detecting negative tweets vs the others, we will create a variable with two possible values: negative (codified as 1) or non negative (codified as 0):"
   ]
  },
  {
   "cell_type": "code",
   "execution_count": 14,
   "metadata": {
    "collapsed": true
   },
   "outputs": [],
   "source": [
    "data_clean['sentiment'] = data_clean['airline_sentiment'].apply(lambda x: 1 if x=='negative' else 0)"
   ]
  },
  {
   "cell_type": "code",
   "execution_count": 15,
   "metadata": {},
   "outputs": [
    {
     "data": {
      "image/png": "[encoded data removed]",
      "text/plain": [
       "<matplotlib.figure.Figure at 0x11f722588>"
      ]
     },
     "metadata": {
      "image/png": {
       "height": 247,
       "width": 383
      }
     },
     "output_type": "display_data"
    }
   ],
   "source": [
    "data_clean['sentiment'].value_counts().plot(kind=\"bar\")\n",
    "plt.show()"
   ]
  },
  {
   "cell_type": "code",
   "execution_count": 16,
   "metadata": {},
   "outputs": [
    {
     "data": {
      "text/plain": [
       "1    8787\n",
       "0    4864\n",
       "Name: sentiment, dtype: int64"
      ]
     },
     "execution_count": 16,
     "metadata": {},
     "output_type": "execute_result"
    }
   ],
   "source": [
    "data_clean['sentiment'].value_counts()"
   ]
  },
  {
   "cell_type": "code",
   "execution_count": 17,
   "metadata": {
    "collapsed": true
   },
   "outputs": [],
   "source": [
    "tweets_len = data_clean['text'].apply(len)"
   ]
  },
  {
   "cell_type": "code",
   "execution_count": 18,
   "metadata": {},
   "outputs": [
    {
     "data": {
      "image/png": "[encoded data removed]",
      "text/plain": [
       "<matplotlib.figure.Figure at 0x12095bf98>"
      ]
     },
     "metadata": {
      "image/png": {
       "height": 467,
       "width": 830
      }
     },
     "output_type": "display_data"
    }
   ],
   "source": [
    "plt.figure(figsize=(14,8))\n",
    "plt.hist(tweets_len, bins=30)\n",
    "plt.axvline(x=140, color='r', linestyle='-')\n",
    "plt.show()"
   ]
  },
  {
   "cell_type": "markdown",
   "metadata": {},
   "source": [
    "It is a bit strange that some tweets have more than 140 characters, which theoretically is the limit:"
   ]
  },
  {
   "cell_type": "code",
   "execution_count": 19,
   "metadata": {},
   "outputs": [
    {
     "name": "stdout",
     "output_type": "stream",
     "text": [
      "Mean tweet size: 104.4608 (+/- 36.1416)\n"
     ]
    }
   ],
   "source": [
    "print(\"Mean tweet size: {:.4f} (+/- {:.4f})\".format(np.mean(tweets_len), np.std(tweets_len)))"
   ]
  },
  {
   "cell_type": "code",
   "execution_count": 20,
   "metadata": {},
   "outputs": [
    {
     "data": {
      "text/plain": [
       "DescribeResult(nobs=13651, minmax=(12, 186), mean=104.46084535931433, variance=1306.3138331021653, skewness=-0.7124213049119914, kurtosis=-0.6314361320224249)"
      ]
     },
     "execution_count": 20,
     "metadata": {},
     "output_type": "execute_result"
    }
   ],
   "source": [
    "from scipy import stats\n",
    "stats.describe(tweets_len)"
   ]
  },
  {
   "cell_type": "code",
   "execution_count": 21,
   "metadata": {},
   "outputs": [
    {
     "data": {
      "text/plain": [
       "1011"
      ]
     },
     "execution_count": 21,
     "metadata": {},
     "output_type": "execute_result"
    }
   ],
   "source": [
    "np.sum(tweets_len > 140)"
   ]
  },
  {
   "cell_type": "code",
   "execution_count": 22,
   "metadata": {},
   "outputs": [
    {
     "data": {
      "text/plain": [
       "Int64Index([10405, 11807], dtype='int64')"
      ]
     },
     "execution_count": 22,
     "metadata": {},
     "output_type": "execute_result"
    }
   ],
   "source": [
    "data_clean.iloc[np.where(tweets_len > 170)].index"
   ]
  },
  {
   "cell_type": "code",
   "execution_count": 23,
   "metadata": {},
   "outputs": [
    {
     "data": {
      "text/plain": [
       "\"@USAirways Eyyyy! Cancelled Flightlations, Flight Booking Problemss, reFlight Booking Problemss, but y'all got me on the same flight out tonight (not tomorrow) &amp; the FC upgrade. Thx!\""
      ]
     },
     "execution_count": 23,
     "metadata": {},
     "output_type": "execute_result"
    }
   ],
   "source": [
    "data_clean.loc[10405, \"text\"]"
   ]
  },
  {
   "cell_type": "code",
   "execution_count": 24,
   "metadata": {},
   "outputs": [
    {
     "data": {
      "text/plain": [
       "'@USAirways Travelling from pwm to atl on Sunday That flight got Cancelled Flightled and my new flight is Cancelled Flightled and got disconnected when reFlight Booking Problems'"
      ]
     },
     "execution_count": 24,
     "metadata": {},
     "output_type": "execute_result"
    }
   ],
   "source": [
    "data_clean.loc[11807, \"text\"]"
   ]
  },
  {
   "cell_type": "markdown",
   "metadata": {},
   "source": [
    "We could be conservative and remove all tweets bigger than 140 characters (that would be about 7% of the dataset):"
   ]
  },
  {
   "cell_type": "code",
   "execution_count": 25,
   "metadata": {},
   "outputs": [
    {
     "data": {
      "text/plain": [
       "7.406050838766391"
      ]
     },
     "execution_count": 25,
     "metadata": {},
     "output_type": "execute_result"
    }
   ],
   "source": [
    "(np.sum(tweets_len > 140)/len(data_clean))*100"
   ]
  },
  {
   "cell_type": "markdown",
   "metadata": {},
   "source": [
    "Exploring some cases we see that sometimes html tags and codifications has been scraped and included in the tweets. That means that these tweets are going to be considered longer that they are in reality. We are going to use a good Twitter tokenizer in the project, so it is going to deal with this problem:  "
   ]
  },
  {
   "cell_type": "code",
   "execution_count": 26,
   "metadata": {
    "scrolled": false
   },
   "outputs": [
    {
     "name": "stdout",
     "output_type": "stream",
     "text": [
      "903      @united FAIL You Cancelled Flightled our fligh...\n",
      "1075     @united 2 Cancelled Flighted flights Late Flig...\n",
      "2944     @united United Club team is A+ &amp; got me a ...\n",
      "4466     @SouthwestAir why was Southwest only airline t...\n",
      "5069     @SouthwestAir Thx to customer service rep ALEX...\n",
      "5621     @SouthwestAir#4569 Cancelled Flightled, had to...\n",
      "6536     @SouthwestAir MCO-&gt;DCA flight almost full o...\n",
      "6763     @JetBlue Cancelled Flighted my flight. Went wi...\n",
      "8359     @JetBlue Hey guys! Your Flight Booking Problem...\n",
      "8916     @JetBlue glitches on website re: Flight Bookin...\n",
      "9991     @USAirways  you Cancelled Flighted &amp; resch...\n",
      "10165    @USAirways been on hold 2 hours for a Cancelle...\n",
      "10405    @USAirways Eyyyy! Cancelled Flightlations, Fli...\n",
      "10467    @USAirways flt last nght Cancelled Flighted-me...\n",
      "11665    @USAirways My Flight Booking Problems C68LD9 j...\n",
      "11807    @USAirways Travelling from pwm to atl on Sunda...\n",
      "12208    @AmericanAir When Flight Booking Problems an i...\n",
      "13135    @AmericanAir your team rebooked my Cancelled F...\n",
      "13449    @AmericanAir why Cancelled Flight #1605 on 6/2...\n",
      "13473    @AmericanAir Not very helpful if my flight is ...\n",
      "14419    @AmericanAir two hours Late Flightr and still ...\n",
      "Name: text, dtype: object\n"
     ]
    }
   ],
   "source": [
    "print(data_clean.iloc[np.where(tweets_len > 160)]['text'])"
   ]
  },
  {
   "cell_type": "code",
   "execution_count": 27,
   "metadata": {},
   "outputs": [
    {
     "data": {
      "text/plain": [
       "\"@SouthwestAir MCO-&gt;DCA flight almost full of people screwed by the MSY-DCA Cancelled Flightation. @united and @USAirways didn't Cancelled Flight. SWA=mistake.\""
      ]
     },
     "execution_count": 27,
     "metadata": {},
     "output_type": "execute_result"
    }
   ],
   "source": [
    "raw_html = data_clean.loc[6536, \"text\"]\n",
    "raw_html"
   ]
  },
  {
   "cell_type": "code",
   "execution_count": 28,
   "metadata": {
    "collapsed": true
   },
   "outputs": [],
   "source": [
    "from bs4 import BeautifulSoup\n",
    "cleantext = BeautifulSoup(raw_html, \"lxml\").text"
   ]
  },
  {
   "cell_type": "code",
   "execution_count": 29,
   "metadata": {
    "scrolled": false
   },
   "outputs": [
    {
     "data": {
      "text/plain": [
       "\"@SouthwestAir MCO->DCA flight almost full of people screwed by the MSY-DCA Cancelled Flightation. @united and @USAirways didn't Cancelled Flight. SWA=mistake.\""
      ]
     },
     "execution_count": 29,
     "metadata": {},
     "output_type": "execute_result"
    }
   ],
   "source": [
    "cleantext"
   ]
  },
  {
   "cell_type": "code",
   "execution_count": 30,
   "metadata": {
    "collapsed": true
   },
   "outputs": [],
   "source": [
    "from nltk.tokenize import TweetTokenizer\n",
    "tknzr = TweetTokenizer()"
   ]
  },
  {
   "cell_type": "code",
   "execution_count": 31,
   "metadata": {
    "scrolled": false
   },
   "outputs": [
    {
     "data": {
      "text/plain": [
       "['@SouthwestAir',\n",
       " 'MCO',\n",
       " '->',\n",
       " 'DCA',\n",
       " 'flight',\n",
       " 'almost',\n",
       " 'full',\n",
       " 'of',\n",
       " 'people',\n",
       " 'screwed',\n",
       " 'by',\n",
       " 'the',\n",
       " 'MSY-DCA',\n",
       " 'Cancelled',\n",
       " 'Flightation',\n",
       " '.',\n",
       " '@united',\n",
       " 'and',\n",
       " '@USAirways',\n",
       " \"didn't\",\n",
       " 'Cancelled',\n",
       " 'Flight',\n",
       " '.',\n",
       " 'SWA',\n",
       " '=',\n",
       " 'mistake',\n",
       " '.']"
      ]
     },
     "execution_count": 31,
     "metadata": {},
     "output_type": "execute_result"
    }
   ],
   "source": [
    "tknzr.tokenize(raw_html)"
   ]
  },
  {
   "cell_type": "markdown",
   "metadata": {},
   "source": [
    "Because our main goal is to analyze sentiment on text, we are going to keep all the tweets at the moment. Processing html the number of tweets bigger than 140 has been reduced: "
   ]
  },
  {
   "cell_type": "code",
   "execution_count": 32,
   "metadata": {
    "collapsed": true
   },
   "outputs": [],
   "source": [
    "data_clean['text_clean'] = data_clean['text'].apply(lambda x: BeautifulSoup(x, \"lxml\").text)"
   ]
  },
  {
   "cell_type": "code",
   "execution_count": 33,
   "metadata": {},
   "outputs": [
    {
     "data": {
      "text/plain": [
       "'@VirginAmerica I <3 pretty graphics. so much better than minimal iconography. :D,0'"
      ]
     },
     "execution_count": 33,
     "metadata": {},
     "output_type": "execute_result"
    }
   ],
   "source": [
    "BeautifulSoup(\"@VirginAmerica I &lt;3 pretty graphics. so much better than minimal iconography. :D,0\", \"lxml\").text"
   ]
  },
  {
   "cell_type": "code",
   "execution_count": 34,
   "metadata": {},
   "outputs": [
    {
     "data": {
      "text/plain": [
       "739"
      ]
     },
     "execution_count": 34,
     "metadata": {},
     "output_type": "execute_result"
    }
   ],
   "source": [
    "np.sum(data_clean['text_clean'].apply(len) > 140)"
   ]
  },
  {
   "cell_type": "code",
   "execution_count": 35,
   "metadata": {},
   "outputs": [
    {
     "data": {
      "text/plain": [
       "1    8787\n",
       "0    4864\n",
       "Name: sentiment, dtype: int64"
      ]
     },
     "execution_count": 35,
     "metadata": {},
     "output_type": "execute_result"
    }
   ],
   "source": [
    "data_clean['sentiment'].value_counts()"
   ]
  },
  {
   "cell_type": "markdown",
   "metadata": {},
   "source": [
    "Let's see some summary statistics for all the tweets:"
   ]
  },
  {
   "cell_type": "code",
   "execution_count": 36,
   "metadata": {
    "collapsed": true
   },
   "outputs": [],
   "source": [
    "tweets_clean_len = data_clean['text_clean'].apply(len)"
   ]
  },
  {
   "cell_type": "code",
   "execution_count": 37,
   "metadata": {},
   "outputs": [
    {
     "name": "stdout",
     "output_type": "stream",
     "text": [
      "Mean tweet size: 104.2435 (+/- 35.9762)\n"
     ]
    }
   ],
   "source": [
    "print(\"Mean tweet size: {:.4f} (+/- {:.4f})\".format(np.mean(tweets_clean_len), np.std(tweets_clean_len)))"
   ]
  },
  {
   "cell_type": "code",
   "execution_count": 38,
   "metadata": {},
   "outputs": [],
   "source": [
    "tweets_clean_words = data_clean['text_clean'].apply(lambda x: tknzr.tokenize(x.lower()))"
   ]
  },
  {
   "cell_type": "code",
   "execution_count": 39,
   "metadata": {},
   "outputs": [
    {
     "name": "stdout",
     "output_type": "stream",
     "text": [
      "Mean tweet size: 20.2053 (+/- 7.6421)\n"
     ]
    }
   ],
   "source": [
    "tweets_clean_words_num = tweets_clean_words.apply(len)\n",
    "print(\"Mean tweet size: {:.4f} (+/- {:.4f})\".format(np.mean(tweets_clean_words_num) , np.std(tweets_clean_words_num)))"
   ]
  },
  {
   "cell_type": "code",
   "execution_count": 40,
   "metadata": {},
   "outputs": [
    {
     "data": {
      "text/plain": [
       "DescribeResult(nobs=13651, minmax=(2, 42), mean=20.205332942641565, variance=58.405527601595288, skewness=-0.41579365462924706, kurtosis=-0.7390899725600057)"
      ]
     },
     "execution_count": 40,
     "metadata": {},
     "output_type": "execute_result"
    }
   ],
   "source": [
    "stats.describe(tweets_clean_words_num)"
   ]
  },
  {
   "cell_type": "markdown",
   "metadata": {},
   "source": [
    "We are going to see what are the most common words (removing stop words previously)"
   ]
  },
  {
   "cell_type": "code",
   "execution_count": 41,
   "metadata": {
    "collapsed": true
   },
   "outputs": [],
   "source": [
    "from nltk.corpus import stopwords\n",
    "from string import punctuation\n",
    "en_stopwords = set(stopwords.words(\"english\")) "
   ]
  },
  {
   "cell_type": "code",
   "execution_count": 42,
   "metadata": {
    "collapsed": true
   },
   "outputs": [],
   "source": [
    "airlines_usernames = ['@united', '@usairways', '@americanair', '@southwestair', '@jetblue']"
   ]
  },
  {
   "cell_type": "code",
   "execution_count": 43,
   "metadata": {},
   "outputs": [],
   "source": [
    "tweets_clean_words_nostop = tweets_clean_words.apply(lambda x: [w for w in x if (w not in en_stopwords) and\n",
    "                                                               (w not in punctuation)])"
   ]
  },
  {
   "cell_type": "code",
   "execution_count": 44,
   "metadata": {},
   "outputs": [
    {
     "name": "stdout",
     "output_type": "stream",
     "text": [
      "Mean tweet size: 10.8109 (+/- 4.1282)\n"
     ]
    }
   ],
   "source": [
    "tweets_clean_words_nostop_num = tweets_clean_words_nostop.apply(len)\n",
    "print(\"Mean tweet size: {:.4f} (+/- {:.4f})\".format(np.mean(tweets_clean_words_nostop_num) , \n",
    "                                                    np.std(tweets_clean_words_nostop_num)))"
   ]
  },
  {
   "cell_type": "code",
   "execution_count": 45,
   "metadata": {},
   "outputs": [],
   "source": [
    "from collections import Counter\n",
    "word_counter = Counter()"
   ]
  },
  {
   "cell_type": "code",
   "execution_count": 46,
   "metadata": {},
   "outputs": [],
   "source": [
    "for tweet in tweets_clean_words_nostop:\n",
    "    for w in tweet:\n",
    "        word_counter[w] += 1"
   ]
  },
  {
   "cell_type": "markdown",
   "metadata": {},
   "source": [
    "The more common tokens in all tweets:"
   ]
  },
  {
   "cell_type": "code",
   "execution_count": 47,
   "metadata": {},
   "outputs": [
    {
     "data": {
      "text/plain": [
       "[('flight', 3689),\n",
       " ('@united', 3622),\n",
       " ('@usairways', 2845),\n",
       " ('@americanair', 2807),\n",
       " ('@southwestair', 2257),\n",
       " ('@jetblue', 2054),\n",
       " ('get', 1245),\n",
       " ('cancelled', 999),\n",
       " ('thanks', 966),\n",
       " ('...', 941),\n",
       " ('service', 928),\n",
       " ('help', 792),\n",
       " ('time', 735),\n",
       " ('customer', 721),\n",
       " ('hours', 664),\n",
       " ('2', 638),\n",
       " ('us', 634),\n",
       " (\"i'm\", 633),\n",
       " ('hold', 630),\n",
       " ('plane', 597),\n",
       " ('flights', 595),\n",
       " ('thank', 554),\n",
       " ('still', 552),\n",
       " ('please', 524),\n",
       " ('one', 520),\n",
       " ('delayed', 518),\n",
       " ('need', 507),\n",
       " (\"can't\", 506),\n",
       " ('gate', 493),\n",
       " ('would', 491)]"
      ]
     },
     "execution_count": 47,
     "metadata": {},
     "output_type": "execute_result"
    }
   ],
   "source": [
    "word_counter.most_common(30)"
   ]
  },
  {
   "cell_type": "code",
   "execution_count": 48,
   "metadata": {},
   "outputs": [],
   "source": [
    "negative_tweet_index = data_clean.loc[data_clean['sentiment']==1].index\n",
    "positive_tweet_index = data_clean.loc[data_clean['sentiment']==0].index"
   ]
  },
  {
   "cell_type": "code",
   "execution_count": 49,
   "metadata": {},
   "outputs": [
    {
     "data": {
      "text/plain": [
       "11.824513485831341"
      ]
     },
     "execution_count": 49,
     "metadata": {},
     "output_type": "execute_result"
    }
   ],
   "source": [
    "np.mean(tweets_clean_words_nostop[negative_tweet_index].apply(len))"
   ]
  },
  {
   "cell_type": "code",
   "execution_count": 50,
   "metadata": {},
   "outputs": [
    {
     "data": {
      "text/plain": [
       "8.979646381578947"
      ]
     },
     "execution_count": 50,
     "metadata": {},
     "output_type": "execute_result"
    }
   ],
   "source": [
    "np.mean(tweets_clean_words_nostop[positive_tweet_index].apply(len))"
   ]
  },
  {
   "cell_type": "code",
   "execution_count": 51,
   "metadata": {
    "collapsed": true
   },
   "outputs": [],
   "source": [
    "mentions_in_positive = []\n",
    "url_in_positive = []\n",
    "word_positive_counter = Counter()\n",
    "for tweet in tweets_clean_words_nostop[positive_tweet_index]:\n",
    "    mentions = 0\n",
    "    urls = 0\n",
    "    for w in tweet:\n",
    "        word_positive_counter[w] += 1\n",
    "        if w.startswith('http'):\n",
    "            urls += 1\n",
    "        if w[0]=='@':\n",
    "            mentions += 1   \n",
    "        mentions_in_positive.append(mentions)  \n",
    "        url_in_positive.append(urls)"
   ]
  },
  {
   "cell_type": "code",
   "execution_count": 52,
   "metadata": {},
   "outputs": [
    {
     "data": {
      "text/plain": [
       "0.024200380062733246"
      ]
     },
     "execution_count": 52,
     "metadata": {},
     "output_type": "execute_result"
    }
   ],
   "source": [
    "np.mean(url_in_positive)"
   ]
  },
  {
   "cell_type": "markdown",
   "metadata": {},
   "source": [
    "The more common tokens in non-negative tweets:"
   ]
  },
  {
   "cell_type": "code",
   "execution_count": 53,
   "metadata": {},
   "outputs": [
    {
     "data": {
      "text/plain": [
       "[('@jetblue', 1149),\n",
       " ('@southwestair', 1114),\n",
       " ('@united', 1042),\n",
       " ('flight', 890),\n",
       " ('@americanair', 766),\n",
       " ('thanks', 679),\n",
       " ('@usairways', 585),\n",
       " ('thank', 481),\n",
       " ('get', 305),\n",
       " ('@virginamerica', 299),\n",
       " ('great', 243),\n",
       " ('...', 232),\n",
       " ('help', 224),\n",
       " ('please', 213),\n",
       " ('service', 197),\n",
       " ('flights', 193),\n",
       " ('us', 176),\n",
       " ('time', 162),\n",
       " (\"i'm\", 160),\n",
       " ('love', 155)]"
      ]
     },
     "execution_count": 53,
     "metadata": {},
     "output_type": "execute_result"
    }
   ],
   "source": [
    "word_positive_counter.most_common(20)"
   ]
  },
  {
   "cell_type": "code",
   "execution_count": 54,
   "metadata": {},
   "outputs": [],
   "source": [
    "mentions_in_negative = []\n",
    "url_in_negative = []\n",
    "word_negative_counter = Counter()\n",
    "for tweet in tweets_clean_words_nostop[negative_tweet_index]:\n",
    "    mentions = 0\n",
    "    urls = 0\n",
    "    for w in tweet:\n",
    "        word_negative_counter[w] += 1\n",
    "        if w.startswith('http'):\n",
    "            urls += 1        \n",
    "        if w[0]=='@':\n",
    "            mentions += 1\n",
    "    mentions_in_negative.append(mentions)    \n",
    "    url_in_negative.append(urls)"
   ]
  },
  {
   "cell_type": "code",
   "execution_count": 55,
   "metadata": {},
   "outputs": [
    {
     "data": {
      "text/plain": [
       "0.048594514623876178"
      ]
     },
     "execution_count": 55,
     "metadata": {},
     "output_type": "execute_result"
    }
   ],
   "source": [
    "np.mean(url_in_negative)"
   ]
  },
  {
   "cell_type": "code",
   "execution_count": 56,
   "metadata": {},
   "outputs": [
    {
     "name": "stdout",
     "output_type": "stream",
     "text": [
      "Mean mentions in negative tweets: 1.1108 (+/- 0.3655)\n"
     ]
    }
   ],
   "source": [
    "print(\"Mean mentions in negative tweets: {:.4f} (+/- {:.4f})\".format(np.mean(mentions_in_negative), \n",
    "                                                                     np.std(mentions_in_negative)))"
   ]
  },
  {
   "cell_type": "code",
   "execution_count": 57,
   "metadata": {},
   "outputs": [
    {
     "name": "stdout",
     "output_type": "stream",
     "text": [
      "Mean mentions in non-negative tweets: 1.0933 (+/- 0.3810)\n"
     ]
    }
   ],
   "source": [
    "print(\"Mean mentions in non-negative tweets: {:.4f} (+/- {:.4f})\".format(np.mean(mentions_in_positive), \n",
    "                                                                         np.std(mentions_in_positive)))"
   ]
  },
  {
   "cell_type": "markdown",
   "metadata": {},
   "source": [
    "The more common tokens in negative tweets:"
   ]
  },
  {
   "cell_type": "code",
   "execution_count": 58,
   "metadata": {},
   "outputs": [
    {
     "data": {
      "text/plain": [
       "[('flight', 2799),\n",
       " ('@united', 2580),\n",
       " ('@usairways', 2260),\n",
       " ('@americanair', 2041),\n",
       " ('@southwestair', 1143),\n",
       " ('get', 940),\n",
       " ('@jetblue', 905),\n",
       " ('cancelled', 879),\n",
       " ('service', 731),\n",
       " ('...', 709),\n",
       " ('hours', 641),\n",
       " ('hold', 600),\n",
       " ('customer', 592),\n",
       " ('time', 573),\n",
       " ('help', 568),\n",
       " ('2', 552),\n",
       " ('plane', 509),\n",
       " ('delayed', 489),\n",
       " ('still', 473),\n",
       " (\"i'm\", 473)]"
      ]
     },
     "execution_count": 58,
     "metadata": {},
     "output_type": "execute_result"
    }
   ],
   "source": [
    "word_negative_counter.most_common(20)"
   ]
  },
  {
   "cell_type": "markdown",
   "metadata": {},
   "source": [
    "We save the clean dataset:"
   ]
  },
  {
   "cell_type": "code",
   "execution_count": 59,
   "metadata": {
    "collapsed": true
   },
   "outputs": [],
   "source": [
    "data_clean.to_csv('../output/data_clean.csv',\n",
    "                  columns=['text_clean', 'sentiment'],\n",
    "                  header=['text', 'sentiment'],\n",
    "                  index=False)"
   ]
  }
 ],
 "metadata": {
  "celltoolbar": "Raw Cell Format",
  "kernelspec": {
   "display_name": "Python 3",
   "language": "python",
   "name": "python3"
  },
  "language_info": {
   "codemirror_mode": {
    "name": "ipython",
    "version": 3
   },
   "file_extension": ".py",
   "mimetype": "text/x-python",
   "name": "python",
   "nbconvert_exporter": "python",
   "pygments_lexer": "ipython3",
   "version": "3.5.3"
  }
 },
 "nbformat": 4,
 "nbformat_minor": 2
}
