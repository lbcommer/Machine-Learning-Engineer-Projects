{
 "cells": [
  {
   "cell_type": "markdown",
   "metadata": {},
   "source": [
    "# Machine Learning Udacity Capstone Project\n",
    "**\"Sentiment analysis in airline tweets\"**\n",
    "\n",
    "Author: Luis Bronchal<br>Date: September 11, 2017"
   ]
  },
  {
   "cell_type": "markdown",
   "metadata": {},
   "source": [
    "## Machine Learning Models for data codified as Bag of Words\n",
    "\n",
    "## Summary\n",
    "\n",
    "We have used the cleaned data obtained during the Exploratory Data Analysis. We have build tools to tokenize the tweets' text and to codify them as Bag of Words. Several machine learning models have been tried on this transformed data and its performance has been compared."
   ]
  },
  {
   "cell_type": "markdown",
   "metadata": {},
   "source": [
    "## Data loading"
   ]
  },
  {
   "cell_type": "code",
   "execution_count": 1,
   "metadata": {
    "collapsed": true
   },
   "outputs": [],
   "source": [
    "import numpy as np\n",
    "import pandas as pd\n",
    "import matplotlib.pyplot as plt\n",
    "import seaborn as sns\n",
    "\n",
    "import nltk\n",
    "from nltk.corpus import stopwords\n",
    "from nltk.stem import SnowballStemmer\n",
    "from nltk.tokenize import TweetTokenizer\n",
    "from string import punctuation\n",
    "from sklearn.feature_extraction.text import CountVectorizer, TfidfTransformer\n",
    "from sklearn.linear_model import LogisticRegression\n",
    "from sklearn.svm import SVC\n",
    "from sklearn.model_selection import train_test_split, StratifiedKFold, cross_val_score\n",
    "from sklearn.pipeline import make_pipeline, Pipeline\n",
    "from sklearn.model_selection import GridSearchCV\n",
    "from sklearn.metrics import make_scorer, accuracy_score, f1_score\n",
    "from sklearn.metrics import confusion_matrix, roc_auc_score, recall_score, precision_score"
   ]
  },
  {
   "cell_type": "code",
   "execution_count": 2,
   "metadata": {
    "collapsed": true
   },
   "outputs": [],
   "source": [
    "data = pd.read_csv(\"../output/data_clean.csv\")"
   ]
  },
  {
   "cell_type": "code",
   "execution_count": 3,
   "metadata": {},
   "outputs": [
    {
     "data": {
      "text/html": [
       "<div>\n",
       "<style>\n",
       "    .dataframe thead tr:only-child th {\n",
       "        text-align: right;\n",
       "    }\n",
       "\n",
       "    .dataframe thead th {\n",
       "        text-align: left;\n",
       "    }\n",
       "\n",
       "    .dataframe tbody tr th {\n",
       "        vertical-align: top;\n",
       "    }\n",
       "</style>\n",
       "<table border=\"1\" class=\"dataframe\">\n",
       "  <thead>\n",
       "    <tr style=\"text-align: right;\">\n",
       "      <th></th>\n",
       "      <th>text</th>\n",
       "      <th>sentiment</th>\n",
       "    </tr>\n",
       "  </thead>\n",
       "  <tbody>\n",
       "    <tr>\n",
       "      <th>0</th>\n",
       "      <td>@VirginAmerica What @dhepburn said.</td>\n",
       "      <td>0</td>\n",
       "    </tr>\n",
       "    <tr>\n",
       "      <th>1</th>\n",
       "      <td>@VirginAmerica I didn't today... Must mean I n...</td>\n",
       "      <td>0</td>\n",
       "    </tr>\n",
       "    <tr>\n",
       "      <th>2</th>\n",
       "      <td>@VirginAmerica it's really aggressive to blast...</td>\n",
       "      <td>1</td>\n",
       "    </tr>\n",
       "    <tr>\n",
       "      <th>3</th>\n",
       "      <td>@VirginAmerica and it's a really big bad thing...</td>\n",
       "      <td>1</td>\n",
       "    </tr>\n",
       "    <tr>\n",
       "      <th>4</th>\n",
       "      <td>@VirginAmerica seriously would pay $30 a fligh...</td>\n",
       "      <td>1</td>\n",
       "    </tr>\n",
       "  </tbody>\n",
       "</table>\n",
       "</div>"
      ],
      "text/plain": [
       "                                                text  sentiment\n",
       "0                @VirginAmerica What @dhepburn said.          0\n",
       "1  @VirginAmerica I didn't today... Must mean I n...          0\n",
       "2  @VirginAmerica it's really aggressive to blast...          1\n",
       "3  @VirginAmerica and it's a really big bad thing...          1\n",
       "4  @VirginAmerica seriously would pay $30 a fligh...          1"
      ]
     },
     "execution_count": 3,
     "metadata": {},
     "output_type": "execute_result"
    }
   ],
   "source": [
    "data.head()"
   ]
  },
  {
   "cell_type": "code",
   "execution_count": 4,
   "metadata": {
    "collapsed": true
   },
   "outputs": [],
   "source": [
    "train, test = train_test_split(data, test_size=0.2, random_state=1)\n",
    "X_train = train['text'].values\n",
    "X_test = test['text'].values\n",
    "y_train = train['sentiment']\n",
    "y_test = test['sentiment']"
   ]
  },
  {
   "cell_type": "markdown",
   "metadata": {},
   "source": [
    "## Bag of Words codification"
   ]
  },
  {
   "cell_type": "code",
   "execution_count": 5,
   "metadata": {
    "collapsed": true
   },
   "outputs": [],
   "source": [
    "en_stopwords = set(stopwords.words(\"english\"))  \n",
    "tknzr = TweetTokenizer()\n",
    "stemmer = SnowballStemmer('english')\n",
    "analyzer = CountVectorizer().build_analyzer()"
   ]
  },
  {
   "cell_type": "code",
   "execution_count": 6,
   "metadata": {
    "collapsed": true
   },
   "outputs": [],
   "source": [
    "def tokenize(text): \n",
    "    tknzr = TweetTokenizer()\n",
    "    return tknzr.tokenize(text)\n",
    "\n",
    "\n",
    "def stem(doc):\n",
    "    return (stemmer.stem(w) for w in analyzer(doc))\n",
    "\n",
    "vectorizer = CountVectorizer(\n",
    "    analyzer = 'word',\n",
    "    tokenizer = tokenize,\n",
    "    lowercase = True,\n",
    "    ngram_range=(1, 1),\n",
    "    stop_words = en_stopwords)\n",
    "\n",
    "vectorizer_bigram = CountVectorizer(\n",
    "    analyzer = 'word',\n",
    "    tokenizer = tokenize,\n",
    "    lowercase = True,\n",
    "    ngram_range=(2, 2))\n",
    "\n",
    "vectorizer_stemmed = CountVectorizer(\n",
    "    analyzer = stem,\n",
    "    tokenizer = tokenize,\n",
    "    lowercase = True,\n",
    "    ngram_range=(1, 1),\n",
    "    stop_words = en_stopwords)\n",
    "\n",
    "\n"
   ]
  },
  {
   "cell_type": "code",
   "execution_count": 7,
   "metadata": {
    "collapsed": true
   },
   "outputs": [],
   "source": [
    "parameters_vectorizer = {\n",
    "    'countvectorizer__max_df': [0.5, 0.9],\n",
    "    'countvectorizer__min_df': [10, 20, 50],\n",
    "    'countvectorizer__max_features': [1000, 5000, 10000, None],\n",
    "    'countvectorizer__ngram_range': ((1, 1), (2, 2))\n",
    "}    \n",
    "\n",
    "parameters_vectorizer_2 = {\n",
    "    'countvectorizer__analyzer': ['word', stem],\n",
    "    'countvectorizer__stop_words': [en_stopwords, None],\n",
    "    'countvectorizer__ngram_range': ((1, 1), (2, 2))\n",
    "}   "
   ]
  },
  {
   "cell_type": "code",
   "execution_count": 8,
   "metadata": {
    "collapsed": true
   },
   "outputs": [],
   "source": [
    "def model_generator(X_train, y_train, vectorizer, estimator, estimator_params,\n",
    "                    kfolds=5, vectorizer_params={}, random_seed=1):\n",
    "\n",
    "    np.random.seed(random_seed)\n",
    "\n",
    "    params = {**vectorizer_params, **estimator_params}\n",
    "    \n",
    "    pipeline = make_pipeline(vectorizer, estimator)\n",
    "\n",
    "    grid = GridSearchCV(pipeline,\n",
    "                    param_grid = params, \n",
    "                    cv = kfolds,\n",
    "                    scoring=\"roc_auc\",\n",
    "                    verbose=1,   \n",
    "                    n_jobs=-1) \n",
    "    \n",
    "    grid.fit(X_train, y_train)    \n",
    "    return grid\n",
    "    "
   ]
  },
  {
   "cell_type": "code",
   "execution_count": 9,
   "metadata": {
    "collapsed": true
   },
   "outputs": [],
   "source": [
    "def report_results(model, X, y, neural_network=False):\n",
    "    if (neural_network == False):\n",
    "        pred_proba = model.predict_proba(X)[:, 1]\n",
    "        pred = model.predict(X)        \n",
    "    else:\n",
    "        pred_proba = model.predict(X)\n",
    "        pred = (pred_proba > 0.5).astype(int)\n",
    "\n",
    "    auc = roc_auc_score(y, pred_proba)\n",
    "    acc = accuracy_score(y, pred)\n",
    "    f1 = f1_score(y, pred)\n",
    "    prec = precision_score(y, pred)\n",
    "    rec = recall_score(y, pred)\n",
    "    result = {'auc': auc, 'f1': f1, 'acc': acc, 'precision': prec, 'recall': rec}\n",
    "    return result"
   ]
  },
  {
   "cell_type": "code",
   "execution_count": 10,
   "metadata": {
    "collapsed": true
   },
   "outputs": [],
   "source": [
    "from sklearn.metrics import roc_curve, auc\n",
    "    \n",
    "def get_roc_curve(model, X, y, neural_network=False):\n",
    "    if (neural_network == False):\n",
    "        pred_proba = model.predict_proba(X)[:, 1]\n",
    "    else:\n",
    "        pred_proba = model.predict(X)\n",
    "\n",
    "    fpr, tpr, _ = roc_curve(y, pred_proba)\n",
    "\n",
    "    return fpr, tpr"
   ]
  },
  {
   "cell_type": "markdown",
   "metadata": {},
   "source": [
    "## Models"
   ]
  },
  {
   "cell_type": "markdown",
   "metadata": {},
   "source": [
    "### Benchmark model"
   ]
  },
  {
   "cell_type": "markdown",
   "metadata": {},
   "source": [
    "We are going to use an easy benchmark model. It will choose ramdonly using the same probability seen in the dataset for each class (negative or non-negative).  "
   ]
  },
  {
   "cell_type": "code",
   "execution_count": 11,
   "metadata": {},
   "outputs": [
    {
     "name": "stdout",
     "output_type": "stream",
     "text": [
      "Probability negative sentiment (training set): 63.82%\n",
      "Accuracy (testing set): 0.545222\n",
      "AUC (testing set): 0.499883\n",
      "F1 (testing set): 0.651528\n",
      "Precission (testing set): 0.665609\n",
      "Recall (testing set): 0.637514\n"
     ]
    }
   ],
   "source": [
    "np.random.seed(1)\n",
    "\n",
    "prob_negative = np.sum(y_train==1) / len(y_train)\n",
    "repetitions = 100\n",
    "acc_benchmark = [0]*repetitions\n",
    "auc_benchmark = [0]*repetitions\n",
    "f1_benchmark = [0]*repetitions\n",
    "prec_benchmark = [0]*repetitions\n",
    "rec_benchmark = [0]*repetitions\n",
    "for i in range(repetitions):\n",
    "    pred_benchmark = np.random.choice([0, 1], \n",
    "                                      len(y_test), \n",
    "                                      replace = True, \n",
    "                                      p = [1 - prob_negative, prob_negative])\n",
    "    auc_benchmark[i] = roc_auc_score(y_test, pred_benchmark)\n",
    "    acc_benchmark[i] = np.sum(pred_benchmark == y_test)/len(y_test)\n",
    "    f1_benchmark[i] = f1_score(y_test, pred_benchmark)\n",
    "    prec_benchmark[i] = precision_score(y_test, pred_benchmark)\n",
    "    rec_benchmark[i] = recall_score(y_test, pred_benchmark)\n",
    "print(\"Probability negative sentiment (training set): {:.2f}%\".format(prob_negative*100))\n",
    "print(\"Accuracy (testing set): {:.6f}\".format(np.median(acc_benchmark)))\n",
    "print(\"AUC (testing set): {:.6f}\".format(np.median(auc_benchmark)))\n",
    "print(\"F1 (testing set): {:.6f}\".format(np.median(f1_benchmark)))\n",
    "print(\"Precission (testing set): {:.6f}\".format(np.median(prec_benchmark)))\n",
    "print(\"Recall (testing set): {:.6f}\".format(np.median(rec_benchmark)))"
   ]
  },
  {
   "cell_type": "markdown",
   "metadata": {},
   "source": [
    "If our models performs worst than this benchmark model, we will know we are doing something wrong."
   ]
  },
  {
   "cell_type": "markdown",
   "metadata": {},
   "source": [
    "### Quick model"
   ]
  },
  {
   "cell_type": "markdown",
   "metadata": {},
   "source": [
    "We are going to try first a quick model (Logistic Regression) to see the performance we can have and to estimate the appropiate number of folds to use in cross validation:"
   ]
  },
  {
   "cell_type": "code",
   "execution_count": 12,
   "metadata": {},
   "outputs": [
    {
     "name": "stdout",
     "output_type": "stream",
     "text": [
      "K = 2, auc: 0.8988 (+/- 0.0081)\n",
      "K = 5, auc: 0.9070 (+/- 0.0133)\n",
      "K = 8, auc: 0.9083 (+/- 0.0111)\n",
      "K = 10, auc: 0.9096 (+/- 0.0177)\n",
      "K = 15, auc: 0.9098 (+/- 0.0203)\n",
      "K = 20, auc: 0.9098 (+/- 0.0281)\n"
     ]
    }
   ],
   "source": [
    "np.random.seed(1)\n",
    "\n",
    "clf = make_pipeline(vectorizer, LogisticRegression(class_weight=\"balanced\"))\n",
    "\n",
    "folds      = [2, 5, 8, 10, 15, 20]\n",
    "n_folds    = len(folds)\n",
    "accuracies = []\n",
    "stds = []\n",
    "# Run K-folds\n",
    "for k in folds:\n",
    "    cv = StratifiedKFold(n_splits=k, shuffle=True, random_state=1)   \n",
    "    scores = cross_val_score(clf, X_train, y_train, cv=cv, scoring=\"roc_auc\")\n",
    "    accuracies.append(scores.mean())\n",
    "    stds.append(scores.std())\n",
    "    print(\"K = {}, auc: {:.4f} (+/- {:0.4f})\".format(k, accuracies[-1], 2*stds[-1]))\n",
    "\n"
   ]
  },
  {
   "cell_type": "code",
   "execution_count": 13,
   "metadata": {},
   "outputs": [
    {
     "data": {
      "image/png": "[encoded data removed]",
      "text/plain": [
       "<matplotlib.figure.Figure at 0x11d9a5d68>"
      ]
     },
     "metadata": {},
     "output_type": "display_data"
    }
   ],
   "source": [
    "accuracies = np.array(accuracies)\n",
    "stds = np.array(stds)\n",
    "\n",
    "train_sizes = range(1, n_folds + 1)\n",
    "\n",
    "plt.figure(figsize=(14,5))\n",
    "plt.title(\"K-fold Cross-validation\")\n",
    "\n",
    "plt.grid()\n",
    "\n",
    "plt.fill_between(train_sizes, accuracies - 2*stds,\n",
    "                 accuracies + 2*stds, alpha=0.1, color=\"b\")\n",
    "    \n",
    "plt.plot(train_sizes, accuracies, 'o-', color=\"b\", label=\"Training score\")\n",
    "    \n",
    "plt.xticks(range(0, n_folds + 2), [''] + [str(k) for k in folds] + [''])\n",
    "plt.yticks(np.array(range(30, 110, 10))/100)\n",
    "plt.ylim(0.8, 1.0)\n",
    "\n",
    "plt.xlabel(\"Folds\")\n",
    "plt.ylabel(\"AUC\")\n",
    "plt.savefig('../output/plots/1-number_of_folds.png')\n",
    "plt.show()"
   ]
  },
  {
   "cell_type": "markdown",
   "metadata": {},
   "source": [
    "The auc performance is quite plain and it makes sense to choose a kfold for cross validation of 5, which can be a good approximation with less computation requierements. \n",
    "\n",
    "The Logistic Regression model without any hyparparameter optimization does it quite well achieving a great cross validation auc performance. It already gets a good auc performance over the testing set:"
   ]
  },
  {
   "cell_type": "code",
   "execution_count": 14,
   "metadata": {},
   "outputs": [
    {
     "data": {
      "text/plain": [
       "{'acc': 0.84145001830831201,\n",
       " 'auc': 0.91983656196944996,\n",
       " 'f1': 0.87596677169865367,\n",
       " 'precision': 0.91392707710699339,\n",
       " 'recall': 0.84103410341034102}"
      ]
     },
     "execution_count": 14,
     "metadata": {},
     "output_type": "execute_result"
    }
   ],
   "source": [
    "clf.fit(X_train, y_train)\n",
    "report_results(clf, X_test, y_test)"
   ]
  },
  {
   "cell_type": "markdown",
   "metadata": {},
   "source": [
    "For the vectorization options we have chosen to transform the raw tweet texts, we are going to have the following number of features:"
   ]
  },
  {
   "cell_type": "code",
   "execution_count": 15,
   "metadata": {},
   "outputs": [
    {
     "data": {
      "text/plain": [
       "(10920, 13947)"
      ]
     },
     "execution_count": 15,
     "metadata": {},
     "output_type": "execute_result"
    }
   ],
   "source": [
    "vectorizer.fit_transform(X_train, y_train).shape"
   ]
  },
  {
   "cell_type": "markdown",
   "metadata": {},
   "source": [
    "That means *13947* features, and we have only *10920* rows in our training dataset. We are going to check if our model would get better results with more data (it makes sense). For that we are going to obtain its learning curve:"
   ]
  },
  {
   "cell_type": "code",
   "execution_count": 16,
   "metadata": {
    "collapsed": true
   },
   "outputs": [],
   "source": [
    "from sklearn.model_selection import learning_curve\n",
    "\n",
    "train_sizes, train_scores, test_scores = \\\n",
    "    learning_curve(clf, X_train, y_train, cv=5, n_jobs=-1, \n",
    "                   scoring=\"roc_auc\", train_sizes=np.linspace(.1, 1.0, 10), random_state=1)"
   ]
  },
  {
   "cell_type": "code",
   "execution_count": 17,
   "metadata": {
    "collapsed": true
   },
   "outputs": [],
   "source": [
    "def plot_learning_curve(X, y, train_sizes, train_scores, test_scores, title='', ylim=None, figsize=(14,8)):\n",
    "\n",
    "    plt.figure(figsize=figsize)\n",
    "    plt.title(title)\n",
    "    if ylim is not None:\n",
    "        plt.ylim(*ylim)\n",
    "    plt.xlabel(\"Training examples\")\n",
    "    plt.ylabel(\"Score\")\n",
    "\n",
    "    train_scores_mean = np.mean(train_scores, axis=1)\n",
    "    train_scores_std = np.std(train_scores, axis=1)\n",
    "    test_scores_mean = np.mean(test_scores, axis=1)\n",
    "    test_scores_std = np.std(test_scores, axis=1)\n",
    "    plt.grid()\n",
    "\n",
    "    plt.fill_between(train_sizes, train_scores_mean - train_scores_std,\n",
    "                     train_scores_mean + train_scores_std, alpha=0.1,\n",
    "                     color=\"r\")\n",
    "    plt.fill_between(train_sizes, test_scores_mean - test_scores_std,\n",
    "                     test_scores_mean + test_scores_std, alpha=0.1, color=\"g\")\n",
    "    plt.plot(train_sizes, train_scores_mean, 'o-', color=\"r\",\n",
    "             label=\"Training score\")\n",
    "    plt.plot(train_sizes, test_scores_mean, 'o-', color=\"g\",\n",
    "             label=\"Cross-validation score\")\n",
    "\n",
    "    plt.legend(loc=\"best\")\n",
    "    return plt"
   ]
  },
  {
   "cell_type": "code",
   "execution_count": 18,
   "metadata": {
    "scrolled": false
   },
   "outputs": [
    {
     "data": {
      "image/png": "[encoded data removed]",
      "text/plain": [
       "<matplotlib.figure.Figure at 0x11d96f208>"
      ]
     },
     "metadata": {},
     "output_type": "display_data"
    }
   ],
   "source": [
    "plot_learning_curve(X_train, y_train, train_sizes, \n",
    "                    train_scores, test_scores, ylim=(0.7, 1.01), figsize=(14,6))\n",
    "plt.show()"
   ]
  },
  {
   "cell_type": "markdown",
   "metadata": {},
   "source": [
    "We can see that with more training data our model gets better cross validation results (auc)"
   ]
  },
  {
   "cell_type": "markdown",
   "metadata": {},
   "source": [
    "We are going to use the same random folds for all models, so it will be possible to compare performance obtained for each model with the same resampled data. "
   ]
  },
  {
   "cell_type": "code",
   "execution_count": 19,
   "metadata": {
    "collapsed": true
   },
   "outputs": [],
   "source": [
    "kfolds = StratifiedKFold(n_splits=5, shuffle=True, random_state=1)"
   ]
  },
  {
   "cell_type": "code",
   "execution_count": 20,
   "metadata": {
    "collapsed": true
   },
   "outputs": [],
   "source": [
    "all_models = {}"
   ]
  },
  {
   "cell_type": "markdown",
   "metadata": {},
   "source": [
    "### Logistic Regression"
   ]
  },
  {
   "cell_type": "code",
   "execution_count": 21,
   "metadata": {},
   "outputs": [
    {
     "name": "stdout",
     "output_type": "stream",
     "text": [
      "Fitting 5 folds for each of 4 candidates, totalling 20 fits\n"
     ]
    },
    {
     "name": "stderr",
     "output_type": "stream",
     "text": [
      "[Parallel(n_jobs=-1)]: Done  20 out of  20 | elapsed:    8.5s finished\n"
     ]
    }
   ],
   "source": [
    "np.random.seed(1)\n",
    "\n",
    "all_models['lr'] = {}\n",
    "all_models['lr']['model']  = model_generator(X_train, y_train, vectorizer, \n",
    "                                             LogisticRegression(class_weight=\"balanced\"), \n",
    "                                             {'logisticregression__C': [.1, 1, 10, 100]}, \n",
    "                                             kfolds)"
   ]
  },
  {
   "cell_type": "code",
   "execution_count": 22,
   "metadata": {},
   "outputs": [
    {
     "data": {
      "text/plain": [
       "{'acc': 0.84145001830831201,\n",
       " 'auc': 0.91983656196944996,\n",
       " 'f1': 0.87596677169865367,\n",
       " 'precision': 0.91392707710699339,\n",
       " 'recall': 0.84103410341034102}"
      ]
     },
     "execution_count": 22,
     "metadata": {},
     "output_type": "execute_result"
    }
   ],
   "source": [
    "all_models['lr']['result'] = report_results(all_models['lr']['model'], X_test, y_test)\n",
    "all_models['lr']['result']"
   ]
  },
  {
   "cell_type": "code",
   "execution_count": 23,
   "metadata": {},
   "outputs": [
    {
     "data": {
      "text/plain": [
       "{'logisticregression__C': 1}"
      ]
     },
     "execution_count": 23,
     "metadata": {},
     "output_type": "execute_result"
    }
   ],
   "source": [
    "all_models['lr']['model'].best_params_"
   ]
  },
  {
   "cell_type": "code",
   "execution_count": 24,
   "metadata": {
    "collapsed": true
   },
   "outputs": [],
   "source": [
    "all_models['lr']['roc_curve'] = get_roc_curve(all_models['lr']['model'], X_test, y_test)"
   ]
  },
  {
   "cell_type": "code",
   "execution_count": 25,
   "metadata": {
    "collapsed": true
   },
   "outputs": [],
   "source": [
    "all_models['lr']['train_preds'] = all_models['lr']['model'].predict_proba(X_train)[:, 1]"
   ]
  },
  {
   "cell_type": "markdown",
   "metadata": {},
   "source": [
    "### SVM"
   ]
  },
  {
   "cell_type": "code",
   "execution_count": 26,
   "metadata": {},
   "outputs": [
    {
     "name": "stdout",
     "output_type": "stream",
     "text": [
      "Fitting 5 folds for each of 3 candidates, totalling 15 fits\n"
     ]
    },
    {
     "name": "stderr",
     "output_type": "stream",
     "text": [
      "[Parallel(n_jobs=-1)]: Done  15 out of  15 | elapsed:  2.9min finished\n"
     ]
    }
   ],
   "source": [
    "np.random.seed(1)\n",
    "\n",
    "all_models['svm'] = {}\n",
    "all_models['svm']['model'] = model_generator(X_train, y_train, vectorizer, \n",
    "                                    SVC(probability=True, kernel=\"linear\", class_weight=\"balanced\"), \n",
    "                                    {'svc__C': [.1, 1, 10]}, \n",
    "                                    kfolds)"
   ]
  },
  {
   "cell_type": "code",
   "execution_count": 27,
   "metadata": {},
   "outputs": [
    {
     "data": {
      "text/plain": [
       "{'acc': 0.83632369095569392,\n",
       " 'auc': 0.92027636498589638,\n",
       " 'f1': 0.87114442202363784,\n",
       " 'precision': 0.91520290732889154,\n",
       " 'recall': 0.83113311331133111}"
      ]
     },
     "execution_count": 27,
     "metadata": {},
     "output_type": "execute_result"
    }
   ],
   "source": [
    "all_models['svm']['result'] = report_results(all_models['svm']['model'], X_test, y_test)\n",
    "all_models['svm']['result']"
   ]
  },
  {
   "cell_type": "code",
   "execution_count": 28,
   "metadata": {},
   "outputs": [
    {
     "data": {
      "text/plain": [
       "{'svc__C': 0.1}"
      ]
     },
     "execution_count": 28,
     "metadata": {},
     "output_type": "execute_result"
    }
   ],
   "source": [
    "all_models['svm']['model'].best_params_"
   ]
  },
  {
   "cell_type": "code",
   "execution_count": 29,
   "metadata": {
    "collapsed": true
   },
   "outputs": [],
   "source": [
    "all_models['svm']['roc_curve'] = get_roc_curve(all_models['svm']['model'], X_test, y_test)"
   ]
  },
  {
   "cell_type": "code",
   "execution_count": 30,
   "metadata": {
    "collapsed": true
   },
   "outputs": [],
   "source": [
    "all_models['svm']['train_preds'] = all_models['svm']['model'].predict_proba(X_train)[:, 1]"
   ]
  },
  {
   "cell_type": "markdown",
   "metadata": {},
   "source": [
    "### Naive Bayes"
   ]
  },
  {
   "cell_type": "code",
   "execution_count": 31,
   "metadata": {},
   "outputs": [
    {
     "name": "stdout",
     "output_type": "stream",
     "text": [
      "Fitting 5 folds for each of 3 candidates, totalling 15 fits\n"
     ]
    },
    {
     "name": "stderr",
     "output_type": "stream",
     "text": [
      "[Parallel(n_jobs=-1)]: Done  15 out of  15 | elapsed:    6.9s finished\n"
     ]
    }
   ],
   "source": [
    "from sklearn.naive_bayes import MultinomialNB\n",
    "\n",
    "np.random.seed(1)\n",
    "\n",
    "all_models['nb'] = {}\n",
    "all_models['nb']['model'] = model_generator(X_train, y_train, vectorizer, \n",
    "                                    MultinomialNB(), \n",
    "                                    {'multinomialnb__alpha': [.1, 1, 10]}, \n",
    "                                    kfolds)\n",
    "\n"
   ]
  },
  {
   "cell_type": "code",
   "execution_count": 32,
   "metadata": {},
   "outputs": [
    {
     "data": {
      "text/plain": [
       "{'acc': 0.84511168070303921,\n",
       " 'auc': 0.91167369749023108,\n",
       " 'f1': 0.89049961170075076,\n",
       " 'precision': 0.84107579462102688,\n",
       " 'recall': 0.94609460946094615}"
      ]
     },
     "execution_count": 32,
     "metadata": {},
     "output_type": "execute_result"
    }
   ],
   "source": [
    "all_models['nb']['result'] = report_results(all_models['nb']['model'], X_test, y_test)\n",
    "all_models['nb']['result']"
   ]
  },
  {
   "cell_type": "code",
   "execution_count": 33,
   "metadata": {},
   "outputs": [
    {
     "data": {
      "text/plain": [
       "{'multinomialnb__alpha': 1}"
      ]
     },
     "execution_count": 33,
     "metadata": {},
     "output_type": "execute_result"
    }
   ],
   "source": [
    "all_models['nb']['model'].best_params_"
   ]
  },
  {
   "cell_type": "code",
   "execution_count": 34,
   "metadata": {
    "collapsed": true
   },
   "outputs": [],
   "source": [
    "all_models['nb']['roc_curve'] = get_roc_curve(all_models['nb']['model'], X_test, y_test)"
   ]
  },
  {
   "cell_type": "code",
   "execution_count": 35,
   "metadata": {
    "collapsed": true
   },
   "outputs": [],
   "source": [
    "all_models['nb']['train_preds'] = all_models['nb']['model'].predict_proba(X_train)[:, 1]"
   ]
  },
  {
   "cell_type": "markdown",
   "metadata": {},
   "source": [
    "### Random Forest"
   ]
  },
  {
   "cell_type": "code",
   "execution_count": 36,
   "metadata": {},
   "outputs": [
    {
     "name": "stdout",
     "output_type": "stream",
     "text": [
      "Fitting 5 folds for each of 6 candidates, totalling 30 fits\n"
     ]
    },
    {
     "name": "stderr",
     "output_type": "stream",
     "text": [
      "[Parallel(n_jobs=-1)]: Done  30 out of  30 | elapsed:  3.6min finished\n"
     ]
    }
   ],
   "source": [
    "from sklearn.ensemble import RandomForestClassifier\n",
    "\n",
    "np.random.seed(1)\n",
    "\n",
    "param_rf = {'randomforestclassifier__n_estimators': [200, 400], \n",
    "            'randomforestclassifier__max_features': ['auto', 'sqrt', 'log2']}\n",
    "    \n",
    "all_models['rf'] = {}\n",
    "all_models['rf']['model'] = model_generator(X_train, y_train, vectorizer, \n",
    "                                            RandomForestClassifier(class_weight=\"balanced\"),\n",
    "                                            param_rf, \n",
    "                                            kfolds)"
   ]
  },
  {
   "cell_type": "code",
   "execution_count": 37,
   "metadata": {},
   "outputs": [
    {
     "data": {
      "text/plain": [
       "{'acc': 0.85133650677407546,\n",
       " 'auc': 0.91499240285474326,\n",
       " 'f1': 0.891675560298826,\n",
       " 'precision': 0.86580310880829014,\n",
       " 'recall': 0.91914191419141911}"
      ]
     },
     "execution_count": 37,
     "metadata": {},
     "output_type": "execute_result"
    }
   ],
   "source": [
    "all_models['rf']['result'] = report_results(all_models['rf']['model'], X_test, y_test)\n",
    "all_models['rf']['result']"
   ]
  },
  {
   "cell_type": "code",
   "execution_count": 38,
   "metadata": {},
   "outputs": [
    {
     "data": {
      "text/plain": [
       "{'randomforestclassifier__max_features': 'log2',\n",
       " 'randomforestclassifier__n_estimators': 400}"
      ]
     },
     "execution_count": 38,
     "metadata": {},
     "output_type": "execute_result"
    }
   ],
   "source": [
    "all_models['rf']['model'].best_params_"
   ]
  },
  {
   "cell_type": "code",
   "execution_count": 39,
   "metadata": {
    "collapsed": true
   },
   "outputs": [],
   "source": [
    "all_models['rf']['roc_curve'] = get_roc_curve(all_models['rf']['model'], X_test, y_test)"
   ]
  },
  {
   "cell_type": "code",
   "execution_count": 40,
   "metadata": {
    "collapsed": true
   },
   "outputs": [],
   "source": [
    "all_models['rf']['train_preds'] = all_models['rf']['model'].predict_proba(X_train)[:, 1]"
   ]
  },
  {
   "cell_type": "markdown",
   "metadata": {},
   "source": [
    "### xgboost"
   ]
  },
  {
   "cell_type": "code",
   "execution_count": 41,
   "metadata": {},
   "outputs": [
    {
     "name": "stdout",
     "output_type": "stream",
     "text": [
      "Fitting 5 folds for each of 216 candidates, totalling 1080 fits\n"
     ]
    },
    {
     "name": "stderr",
     "output_type": "stream",
     "text": [
      "/Users/imac1/anaconda/lib/python3.5/site-packages/sklearn/cross_validation.py:41: DeprecationWarning: This module was deprecated in version 0.18 in favor of the model_selection module into which all the refactored classes and functions are moved. Also note that the interface of the new CV iterators are different from that of this module. This module will be removed in 0.20.\n",
      "  \"This module will be removed in 0.20.\", DeprecationWarning)\n",
      "[Parallel(n_jobs=-1)]: Done  42 tasks      | elapsed:  1.8min\n",
      "[Parallel(n_jobs=-1)]: Done 192 tasks      | elapsed:  9.6min\n",
      "[Parallel(n_jobs=-1)]: Done 442 tasks      | elapsed: 22.4min\n",
      "[Parallel(n_jobs=-1)]: Done 792 tasks      | elapsed: 42.3min\n",
      "[Parallel(n_jobs=-1)]: Done 1080 out of 1080 | elapsed: 62.2min finished\n"
     ]
    }
   ],
   "source": [
    "from xgboost import XGBClassifier\n",
    "from sklearn.base import TransformerMixin \n",
    "\n",
    "# Because bug in xgboost: https://github.com/dmlc/xgboost/issues/1238\n",
    "class CSCTransformer(TransformerMixin):\n",
    "    def transform(self, X, y=None, **fit_params):\n",
    "        return X.tocsc()\n",
    "\n",
    "    def fit_transform(self, X, y=None, **fit_params):\n",
    "        self.fit(X, y, **fit_params)\n",
    "        return self.transform(X)\n",
    "\n",
    "    def fit(self, X, y=None, **fit_params):\n",
    "        return self\n",
    "\n",
    "    def get_params(self, deep=True):\n",
    "        return {}\n",
    "\n",
    "\n",
    "np.random.seed(1)\n",
    "\n",
    "all_models['xgb'] = {}\n",
    "\n",
    "pipeline_xgb = make_pipeline(vectorizer, CSCTransformer(), XGBClassifier())\n",
    "parameters = {'xgbclassifier__learning_rate': [0.02, 0.05, 0.1], #`eta` value\n",
    "              'xgbclassifier__min_child_weight': [1, 2],\n",
    "              'xgbclassifier__max_depth': [6, 10],       \n",
    "              'xgbclassifier__subsample': [0.5, 0.8, 1],\n",
    "              'xgbclassifier__colsample_bytree': [0.7, 0.9],\n",
    "              'xgbclassifier__n_estimators': [100, 500, 1000], #number of trees\n",
    "}\n",
    "all_models['xgb']['model'] = GridSearchCV(pipeline_xgb,\n",
    "                                          param_grid = parameters, \n",
    "                                          cv = kfolds,\n",
    "                                          scoring=\"roc_auc\",\n",
    "                                          verbose=1,   \n",
    "                                          n_jobs=-1) \n",
    "\n",
    "_ = all_models['xgb']['model'].fit(X_train, y_train)\n",
    "\n"
   ]
  },
  {
   "cell_type": "code",
   "execution_count": 42,
   "metadata": {},
   "outputs": [
    {
     "data": {
      "text/plain": [
       "{'acc': 0.8465763456609301,\n",
       " 'auc': 0.91397452998311879,\n",
       " 'f1': 0.88567530695770813,\n",
       " 'precision': 0.87872225230102874,\n",
       " 'recall': 0.89273927392739272}"
      ]
     },
     "execution_count": 42,
     "metadata": {},
     "output_type": "execute_result"
    }
   ],
   "source": [
    "all_models['xgb']['result'] = report_results(all_models['xgb']['model'], X_test, y_test)\n",
    "all_models['xgb']['result']"
   ]
  },
  {
   "cell_type": "code",
   "execution_count": 43,
   "metadata": {
    "collapsed": true
   },
   "outputs": [],
   "source": [
    "all_models['xgb']['roc_curve'] = get_roc_curve(all_models['xgb']['model'], X_test, y_test)"
   ]
  },
  {
   "cell_type": "code",
   "execution_count": 44,
   "metadata": {},
   "outputs": [
    {
     "data": {
      "text/plain": [
       "{'xgbclassifier__colsample_bytree': 0.9,\n",
       " 'xgbclassifier__learning_rate': 0.1,\n",
       " 'xgbclassifier__max_depth': 6,\n",
       " 'xgbclassifier__min_child_weight': 1,\n",
       " 'xgbclassifier__n_estimators': 1000,\n",
       " 'xgbclassifier__subsample': 1}"
      ]
     },
     "execution_count": 44,
     "metadata": {},
     "output_type": "execute_result"
    }
   ],
   "source": [
    "all_models['xgb']['model'].best_params_"
   ]
  },
  {
   "cell_type": "code",
   "execution_count": 45,
   "metadata": {
    "collapsed": true
   },
   "outputs": [],
   "source": [
    "all_models['xgb']['train_preds'] = all_models['xgb']['model'].predict_proba(X_train)[:, 1]"
   ]
  },
  {
   "cell_type": "markdown",
   "metadata": {},
   "source": [
    "### Deep Learning"
   ]
  },
  {
   "cell_type": "code",
   "execution_count": 46,
   "metadata": {},
   "outputs": [
    {
     "name": "stderr",
     "output_type": "stream",
     "text": [
      "Using TensorFlow backend.\n"
     ]
    }
   ],
   "source": [
    "from keras.models import Sequential\n",
    "from keras.layers import Dense\n",
    "from keras.layers import Dropout\n",
    "from keras.callbacks import EarlyStopping"
   ]
  },
  {
   "cell_type": "code",
   "execution_count": 47,
   "metadata": {
    "collapsed": true
   },
   "outputs": [],
   "source": [
    "from sklearn.utils import class_weight\n",
    "class_weight = class_weight.compute_class_weight('balanced', np.unique(y_train), y_train)"
   ]
  },
  {
   "cell_type": "code",
   "execution_count": 48,
   "metadata": {
    "collapsed": true
   },
   "outputs": [],
   "source": [
    "def build_nn_model(vocab_len):\n",
    "    # create model\n",
    "    model = Sequential()\n",
    "    model.add(Dense(10, input_dim=vocab_len, kernel_initializer='random_uniform', activation='linear'))\n",
    "    model.add(Dense(1, activation='sigmoid'))\n",
    "\n",
    "    model.compile(loss='binary_crossentropy', optimizer='rmsprop', metrics=['accuracy'])  \n",
    "    return model  "
   ]
  },
  {
   "cell_type": "code",
   "execution_count": 49,
   "metadata": {},
   "outputs": [
    {
     "name": "stdout",
     "output_type": "stream",
     "text": [
      "Fold 0 ==> Training accuracy: 92.1351 / Validation accuracy: 85.4005\n",
      "Fold 1 ==> Training accuracy: 92.0902 / Validation accuracy: 85.4396\n",
      "Fold 2 ==> Training accuracy: 91.9299 / Validation accuracy: 85.6685\n",
      "Fold 3 ==> Training accuracy: 91.5293 / Validation accuracy: 83.8370\n",
      "Fold 4 ==> Training accuracy: 91.7592 / Validation accuracy: 84.4709\n"
     ]
    }
   ],
   "source": [
    "seed = 1\n",
    "folds = 5\n",
    "epochs = 10\n",
    "cvhistories = []\n",
    "cvscores = []\n",
    "cvscores_train = []\n",
    "i = 0\n",
    "\n",
    "early_stopping = EarlyStopping(monitor='val_loss', patience=1, verbose=0)\n",
    "\n",
    "for train_cv, test_cv in kfolds.split(X_train, y_train.values):\n",
    "    tmp_vec = vectorizer.fit(X_train[train_cv])\n",
    "    train_cv_dense = tmp_vec.transform(X_train[train_cv]).toarray() \n",
    "    test_cv_dense = tmp_vec.transform(X_train[test_cv]).toarray() \n",
    "     \n",
    "    model_nn_cv = build_nn_model(len(tmp_vec.vocabulary_.keys()))\n",
    "\n",
    "    cvhistory = model_nn_cv.fit(train_cv_dense, \n",
    "                                y_train.values[train_cv], \n",
    "                                validation_data=(test_cv_dense, y_train.values[test_cv]),  \n",
    "                                callbacks=[early_stopping], \n",
    "                                class_weight=class_weight,\n",
    "                                epochs=epochs, batch_size=100, verbose=0)\n",
    "    \n",
    "    preds_cv = model_nn_cv.predict_proba(test_cv_dense, verbose=0).flatten()\n",
    "    scores_cv = roc_auc_score(y_train.values[test_cv], preds_cv)\n",
    "    cvscores.append(scores_cv)\n",
    "\n",
    "    preds_train_cv = model_nn_cv.predict_proba(train_cv_dense, verbose=0).flatten()\n",
    "    scores_train_cv = roc_auc_score(y_train.values[train_cv], preds_train_cv)\n",
    "    cvscores_train.append(scores_train_cv)    \n",
    "    \n",
    "    #print(\"%s: %.2f%%\" % (\"auc\", scores_cv))\n",
    "    \n",
    "    print(\"Fold {:d} ==> Training accuracy: {:0.4f} / Validation accuracy: {:0.4f}\". \\\n",
    "          format(i, 100*cvhistory.history['acc'][-1], 100*cvhistory.history['val_acc'][-1])) \n",
    "    \n",
    "    cvhistories.append(cvhistory)\n",
    "    i+=1"
   ]
  },
  {
   "cell_type": "code",
   "execution_count": 50,
   "metadata": {},
   "outputs": [
    {
     "name": "stdout",
     "output_type": "stream",
     "text": [
      "Training auc: 0.9760 (+/- 0.0011)\n",
      "Validation auc: 0.9158 (+/- 0.0055)\n"
     ]
    }
   ],
   "source": [
    "print(\"Training auc: {:0.4f} (+/- {:0.4f})\".format(np.mean(cvscores_train), np.std(cvscores_train)))\n",
    "print(\"Validation auc: {:0.4f} (+/- {:0.4f})\".format(np.mean(cvscores), np.std(cvscores)))"
   ]
  },
  {
   "cell_type": "markdown",
   "metadata": {
    "collapsed": true
   },
   "source": [
    "It looks like an interesting cross validation auc. Let's build the model then over all training data to check over the test data:"
   ]
  },
  {
   "cell_type": "code",
   "execution_count": 51,
   "metadata": {},
   "outputs": [
    {
     "name": "stdout",
     "output_type": "stream",
     "text": [
      "Train on 8736 samples, validate on 2184 samples\n",
      "Epoch 1/20\n",
      "8736/8736 [==============================] - 2s - loss: 0.5601 - acc: 0.7071 - val_loss: 0.5035 - val_acc: 0.7582\n",
      "Epoch 2/20\n",
      "8736/8736 [==============================] - 1s - loss: 0.4351 - acc: 0.8138 - val_loss: 0.4260 - val_acc: 0.8187\n",
      "Epoch 3/20\n",
      "8736/8736 [==============================] - 1s - loss: 0.3642 - acc: 0.8529 - val_loss: 0.3848 - val_acc: 0.8315\n",
      "Epoch 4/20\n",
      "8736/8736 [==============================] - 1s - loss: 0.3174 - acc: 0.8760 - val_loss: 0.3599 - val_acc: 0.8370\n",
      "Epoch 5/20\n",
      "8736/8736 [==============================] - 1s - loss: 0.2847 - acc: 0.8889 - val_loss: 0.3465 - val_acc: 0.8462\n",
      "Epoch 6/20\n",
      "8736/8736 [==============================] - 1s - loss: 0.2601 - acc: 0.9003 - val_loss: 0.3432 - val_acc: 0.8452\n",
      "Epoch 7/20\n",
      "8736/8736 [==============================] - 1s - loss: 0.2398 - acc: 0.9089 - val_loss: 0.3392 - val_acc: 0.8475\n",
      "Epoch 8/20\n",
      "8736/8736 [==============================] - 1s - loss: 0.2230 - acc: 0.9141 - val_loss: 0.3416 - val_acc: 0.8539\n",
      "Epoch 9/20\n",
      "8736/8736 [==============================] - 1s - loss: 0.2080 - acc: 0.9196 - val_loss: 0.3433 - val_acc: 0.8521\n"
     ]
    }
   ],
   "source": [
    "np.random.seed(1)\n",
    "\n",
    "vec = vectorizer.fit(X_train)\n",
    "X_train_dense = vec.transform(X_train).toarray() \n",
    "X_test_dense = vec.transform(X_test).toarray() \n",
    "\n",
    "model_nn = build_nn_model(len(vec.vocabulary_.keys()))\n",
    "\n",
    "# class_weight: class 0 =>  8787/4864\n",
    "history = model_nn.fit(X_train_dense, y_train, validation_split=0.2, \n",
    "                       class_weight=class_weight,\n",
    "                       epochs=20, batch_size=100, callbacks=[early_stopping], verbose=1)"
   ]
  },
  {
   "cell_type": "code",
   "execution_count": 52,
   "metadata": {},
   "outputs": [
    {
     "data": {
      "image/png": "[encoded data removed]",
      "text/plain": [
       "<matplotlib.figure.Figure at 0x153f66908>"
      ]
     },
     "metadata": {},
     "output_type": "display_data"
    },
    {
     "data": {
      "image/png": "[encoded data removed]",
      "text/plain": [
       "<matplotlib.figure.Figure at 0x11da2b320>"
      ]
     },
     "metadata": {},
     "output_type": "display_data"
    }
   ],
   "source": [
    "# summarize history for accuracy\n",
    "plt.plot(history.history['acc'])\n",
    "plt.plot(history.history['val_acc'])\n",
    "plt.title('model accuracy')\n",
    "plt.ylabel('accuracy')\n",
    "plt.xlabel('epoch')\n",
    "plt.legend(['train', 'validation'], loc='upper left')\n",
    "plt.show()\n",
    "# summarize history for loss\n",
    "plt.plot(history.history['loss'])\n",
    "plt.plot(history.history['val_loss'])\n",
    "plt.title('model loss')\n",
    "plt.ylabel('loss')\n",
    "plt.xlabel('epoch')\n",
    "plt.legend(['train', 'validation'], loc='upper left')\n",
    "plt.show()"
   ]
  },
  {
   "cell_type": "code",
   "execution_count": 53,
   "metadata": {},
   "outputs": [
    {
     "name": "stdout",
     "output_type": "stream",
     "text": [
      "Training accuracy: 91.96% / Validation accuracy: 85.21%\n"
     ]
    }
   ],
   "source": [
    "print(\"Training accuracy: %.2f%% / Validation accuracy: %.2f%%\" % \n",
    "      (100*history.history['acc'][-1], 100*history.history['val_acc'][-1]))"
   ]
  },
  {
   "cell_type": "code",
   "execution_count": 54,
   "metadata": {},
   "outputs": [
    {
     "data": {
      "text/plain": [
       "{'acc': 0.85792749908458443,\n",
       " 'auc': 0.922016900485229,\n",
       " 'f1': 0.89299503585217865,\n",
       " 'precision': 0.89546460176991149,\n",
       " 'recall': 0.89053905390539057}"
      ]
     },
     "execution_count": 54,
     "metadata": {},
     "output_type": "execute_result"
    }
   ],
   "source": [
    "all_models['nn'] = {}\n",
    "all_models['nn']['model'] = model_nn\n",
    "all_models['nn']['result'] = report_results(all_models['nn']['model'], X_test_dense, y_test, neural_network=True)\n",
    "all_models['nn']['roc_curve'] = get_roc_curve(all_models['nn']['model'], X_test_dense, y_test, neural_network=True)\n",
    "all_models['nn']['result']"
   ]
  },
  {
   "cell_type": "code",
   "execution_count": 55,
   "metadata": {
    "collapsed": true
   },
   "outputs": [],
   "source": [
    "all_models['nn']['train_preds'] = all_models['nn']['model'].predict(X_train_dense).flatten()"
   ]
  },
  {
   "cell_type": "markdown",
   "metadata": {},
   "source": [
    "## Bag of words with Tf-Idf"
   ]
  },
  {
   "cell_type": "markdown",
   "metadata": {},
   "source": [
    "Now we are going to codify input data as bag of words but instead of the number of times a vocabulary token appears, we are going to apply the [tfidf](https://es.wikipedia.org/wiki/Tf-idf) function."
   ]
  },
  {
   "cell_type": "markdown",
   "metadata": {},
   "source": [
    "## Models"
   ]
  },
  {
   "cell_type": "markdown",
   "metadata": {},
   "source": [
    "### Logistic Regression"
   ]
  },
  {
   "cell_type": "code",
   "execution_count": 56,
   "metadata": {
    "collapsed": true
   },
   "outputs": [],
   "source": [
    "from sklearn.feature_extraction.text import TfidfVectorizer\n",
    "\n",
    "vectorizer_tfidf = TfidfVectorizer(\n",
    "    analyzer = 'word',\n",
    "    tokenizer = tokenize,\n",
    "    lowercase = True,\n",
    "    ngram_range=(1, 1),\n",
    "    stop_words = en_stopwords)"
   ]
  },
  {
   "cell_type": "code",
   "execution_count": 57,
   "metadata": {},
   "outputs": [
    {
     "name": "stdout",
     "output_type": "stream",
     "text": [
      "Fitting 5 folds for each of 4 candidates, totalling 20 fits\n"
     ]
    },
    {
     "name": "stderr",
     "output_type": "stream",
     "text": [
      "[Parallel(n_jobs=-1)]: Done  20 out of  20 | elapsed:    8.2s finished\n"
     ]
    }
   ],
   "source": [
    "np.random.seed(1)\n",
    "\n",
    "all_models['lr_tfidf'] = {}\n",
    "all_models['lr_tfidf']['model']  = model_generator(X_train, y_train, vectorizer_tfidf, \n",
    "                                             LogisticRegression(class_weight=\"balanced\"), \n",
    "                                             {'logisticregression__C': [.1, 1, 10, 100]}, \n",
    "                                             kfolds)"
   ]
  },
  {
   "cell_type": "code",
   "execution_count": 58,
   "metadata": {},
   "outputs": [
    {
     "data": {
      "text/plain": [
       "{'acc': 0.84291468326620289,\n",
       " 'auc': 0.91694410404895921,\n",
       " 'f1': 0.87959584619702502,\n",
       " 'precision': 0.89799426934097426,\n",
       " 'recall': 0.86193619361936191}"
      ]
     },
     "execution_count": 58,
     "metadata": {},
     "output_type": "execute_result"
    }
   ],
   "source": [
    "all_models['lr_tfidf']['result'] = report_results(all_models['lr_tfidf']['model'], X_test, y_test)\n",
    "all_models['lr_tfidf']['result']"
   ]
  },
  {
   "cell_type": "code",
   "execution_count": 59,
   "metadata": {
    "collapsed": true
   },
   "outputs": [],
   "source": [
    "all_models['lr_tfidf']['roc_curve'] = get_roc_curve(all_models['lr']['model'], X_test, y_test)"
   ]
  },
  {
   "cell_type": "code",
   "execution_count": 60,
   "metadata": {},
   "outputs": [
    {
     "data": {
      "text/plain": [
       "{'logisticregression__C': 10}"
      ]
     },
     "execution_count": 60,
     "metadata": {},
     "output_type": "execute_result"
    }
   ],
   "source": [
    "all_models['lr_tfidf']['model'].best_params_"
   ]
  },
  {
   "cell_type": "code",
   "execution_count": 61,
   "metadata": {
    "collapsed": true
   },
   "outputs": [],
   "source": [
    "all_models['lr_tfidf']['train_preds'] = all_models['lr_tfidf']['model'].predict_proba(X_train)[:, 1]"
   ]
  },
  {
   "cell_type": "markdown",
   "metadata": {},
   "source": [
    "### SVM"
   ]
  },
  {
   "cell_type": "code",
   "execution_count": 62,
   "metadata": {},
   "outputs": [
    {
     "name": "stdout",
     "output_type": "stream",
     "text": [
      "Fitting 5 folds for each of 3 candidates, totalling 15 fits\n"
     ]
    },
    {
     "name": "stderr",
     "output_type": "stream",
     "text": [
      "[Parallel(n_jobs=-1)]: Done  15 out of  15 | elapsed:  3.3min finished\n"
     ]
    }
   ],
   "source": [
    "np.random.seed(1)\n",
    "\n",
    "all_models['svm_tfidf'] = {}\n",
    "all_models['svm_tfidf']['model'] = model_generator(X_train, y_train, vectorizer_tfidf, \n",
    "                                    SVC(probability=True, kernel=\"linear\", class_weight=\"balanced\"), \n",
    "                                    {'svc__C': [.1, 1, 10]}, \n",
    "                                    kfolds)"
   ]
  },
  {
   "cell_type": "code",
   "execution_count": 63,
   "metadata": {},
   "outputs": [
    {
     "data": {
      "text/plain": [
       "{'acc': 0.84511168070303921,\n",
       " 'auc': 0.91863644195744887,\n",
       " 'f1': 0.88121314237573711,\n",
       " 'precision': 0.90017211703958688,\n",
       " 'recall': 0.86303630363036299}"
      ]
     },
     "execution_count": 63,
     "metadata": {},
     "output_type": "execute_result"
    }
   ],
   "source": [
    "all_models['svm_tfidf']['result'] = report_results(all_models['svm_tfidf']['model'], X_test, y_test)\n",
    "all_models['svm_tfidf']['result']"
   ]
  },
  {
   "cell_type": "code",
   "execution_count": 64,
   "metadata": {
    "collapsed": true
   },
   "outputs": [],
   "source": [
    "all_models['svm_tfidf']['roc_curve'] = get_roc_curve(all_models['svm_tfidf']['model'], X_test, y_test)"
   ]
  },
  {
   "cell_type": "code",
   "execution_count": 65,
   "metadata": {},
   "outputs": [
    {
     "data": {
      "text/plain": [
       "{'svc__C': 1}"
      ]
     },
     "execution_count": 65,
     "metadata": {},
     "output_type": "execute_result"
    }
   ],
   "source": [
    "all_models['svm_tfidf']['model'].best_params_"
   ]
  },
  {
   "cell_type": "code",
   "execution_count": 66,
   "metadata": {
    "collapsed": true
   },
   "outputs": [],
   "source": [
    "all_models['svm_tfidf']['train_preds'] = all_models['svm_tfidf']['model'].predict_proba(X_train)[:, 1]"
   ]
  },
  {
   "cell_type": "code",
   "execution_count": null,
   "metadata": {
    "collapsed": true
   },
   "outputs": [],
   "source": []
  },
  {
   "cell_type": "markdown",
   "metadata": {},
   "source": [
    "### Naive Bayes"
   ]
  },
  {
   "cell_type": "code",
   "execution_count": 67,
   "metadata": {},
   "outputs": [
    {
     "name": "stdout",
     "output_type": "stream",
     "text": [
      "Fitting 5 folds for each of 3 candidates, totalling 15 fits\n"
     ]
    },
    {
     "name": "stderr",
     "output_type": "stream",
     "text": [
      "[Parallel(n_jobs=-1)]: Done  15 out of  15 | elapsed:    6.3s finished\n"
     ]
    }
   ],
   "source": [
    "from sklearn.naive_bayes import MultinomialNB\n",
    "\n",
    "np.random.seed(1)\n",
    "\n",
    "all_models['nb_tfidf'] = {}\n",
    "all_models['nb_tfidf']['model'] = model_generator(X_train, y_train, vectorizer_tfidf, \n",
    "                                    MultinomialNB(), \n",
    "                                    {'multinomialnb__alpha': [.1, 1, 10]}, \n",
    "                                    kfolds)\n",
    "\n"
   ]
  },
  {
   "cell_type": "code",
   "execution_count": 68,
   "metadata": {},
   "outputs": [
    {
     "data": {
      "text/plain": [
       "{'acc': 0.80629805931893084,\n",
       " 'auc': 0.91033259952501266,\n",
       " 'f1': 0.87181972377029315,\n",
       " 'precision': 0.77912516240796881,\n",
       " 'recall': 0.98954895489548955}"
      ]
     },
     "execution_count": 68,
     "metadata": {},
     "output_type": "execute_result"
    }
   ],
   "source": [
    "all_models['nb_tfidf']['result'] = report_results(all_models['nb_tfidf']['model'], X_test, y_test)\n",
    "all_models['nb_tfidf']['result']"
   ]
  },
  {
   "cell_type": "code",
   "execution_count": 69,
   "metadata": {},
   "outputs": [
    {
     "data": {
      "text/plain": [
       "{'multinomialnb__alpha': 1}"
      ]
     },
     "execution_count": 69,
     "metadata": {},
     "output_type": "execute_result"
    }
   ],
   "source": [
    "all_models['nb_tfidf']['model'].best_params_"
   ]
  },
  {
   "cell_type": "code",
   "execution_count": 70,
   "metadata": {
    "collapsed": true
   },
   "outputs": [],
   "source": [
    "all_models['nb_tfidf']['roc_curve'] = get_roc_curve(all_models['nb_tfidf']['model'], X_test, y_test)"
   ]
  },
  {
   "cell_type": "code",
   "execution_count": 71,
   "metadata": {
    "collapsed": true
   },
   "outputs": [],
   "source": [
    "all_models['nb_tfidf']['train_preds'] = all_models['nb_tfidf']['model'].predict_proba(X_train)[:, 1]"
   ]
  },
  {
   "cell_type": "markdown",
   "metadata": {},
   "source": [
    "### Random Forest"
   ]
  },
  {
   "cell_type": "code",
   "execution_count": 72,
   "metadata": {},
   "outputs": [
    {
     "name": "stdout",
     "output_type": "stream",
     "text": [
      "Fitting 5 folds for each of 6 candidates, totalling 30 fits\n"
     ]
    },
    {
     "name": "stderr",
     "output_type": "stream",
     "text": [
      "[Parallel(n_jobs=-1)]: Done  30 out of  30 | elapsed:  3.1min finished\n"
     ]
    }
   ],
   "source": [
    "from sklearn.ensemble import RandomForestClassifier\n",
    "\n",
    "np.random.seed(1)\n",
    "\n",
    "param_rf = {'randomforestclassifier__n_estimators': [200, 400], \n",
    "            'randomforestclassifier__max_features': ['auto', 'sqrt', 'log2']}\n",
    "    \n",
    "all_models['rf_tfidf'] = {}\n",
    "all_models['rf_tfidf']['model'] = model_generator(X_train, y_train, vectorizer_tfidf, \n",
    "                                            RandomForestClassifier(class_weight=\"balanced\"),\n",
    "                                            param_rf, \n",
    "                                            kfolds)"
   ]
  },
  {
   "cell_type": "code",
   "execution_count": 73,
   "metadata": {},
   "outputs": [
    {
     "data": {
      "text/plain": [
       "{'acc': 0.84913950933723914,\n",
       " 'auc': 0.91277290379640375,\n",
       " 'f1': 0.89180672268907557,\n",
       " 'precision': 0.85326633165829147,\n",
       " 'recall': 0.93399339933993397}"
      ]
     },
     "execution_count": 73,
     "metadata": {},
     "output_type": "execute_result"
    }
   ],
   "source": [
    "all_models['rf_tfidf']['result'] = report_results(all_models['rf_tfidf']['model'], X_test, y_test)\n",
    "all_models['rf_tfidf']['result']"
   ]
  },
  {
   "cell_type": "code",
   "execution_count": 74,
   "metadata": {},
   "outputs": [
    {
     "data": {
      "text/plain": [
       "{'randomforestclassifier__max_features': 'log2',\n",
       " 'randomforestclassifier__n_estimators': 400}"
      ]
     },
     "execution_count": 74,
     "metadata": {},
     "output_type": "execute_result"
    }
   ],
   "source": [
    "all_models['rf_tfidf']['model'].best_params_"
   ]
  },
  {
   "cell_type": "code",
   "execution_count": 75,
   "metadata": {
    "collapsed": true
   },
   "outputs": [],
   "source": [
    "all_models['rf_tfidf']['roc_curve'] = get_roc_curve(all_models['rf_tfidf']['model'], X_test, y_test)"
   ]
  },
  {
   "cell_type": "code",
   "execution_count": 76,
   "metadata": {
    "collapsed": true
   },
   "outputs": [],
   "source": [
    "all_models['rf_tfidf']['train_preds'] = all_models['rf_tfidf']['model'].predict_proba(X_train)[:, 1]"
   ]
  },
  {
   "cell_type": "markdown",
   "metadata": {},
   "source": [
    "### xgboost"
   ]
  },
  {
   "cell_type": "code",
   "execution_count": 77,
   "metadata": {},
   "outputs": [
    {
     "name": "stdout",
     "output_type": "stream",
     "text": [
      "Fitting 5 folds for each of 216 candidates, totalling 1080 fits\n"
     ]
    },
    {
     "name": "stderr",
     "output_type": "stream",
     "text": [
      "[Parallel(n_jobs=-1)]: Done  42 tasks      | elapsed:  2.4min\n",
      "[Parallel(n_jobs=-1)]: Done 192 tasks      | elapsed: 13.0min\n",
      "[Parallel(n_jobs=-1)]: Done 442 tasks      | elapsed: 30.1min\n",
      "[Parallel(n_jobs=-1)]: Done 792 tasks      | elapsed: 58.6min\n",
      "[Parallel(n_jobs=-1)]: Done 1080 out of 1080 | elapsed: 83.8min finished\n"
     ]
    },
    {
     "data": {
      "text/plain": [
       "GridSearchCV(cv=StratifiedKFold(n_splits=5, random_state=1, shuffle=True),\n",
       "       error_score='raise',\n",
       "       estimator=Pipeline(memory=None,\n",
       "     steps=[('tfidfvectorizer', TfidfVectorizer(analyzer='word', binary=False, decode_error='strict',\n",
       "        dtype=<class 'numpy.int64'>, encoding='utf-8', input='content',\n",
       "        lowercase=True, max_df=1.0, max_features=None, min_df=1,\n",
       "        ngram_range=(1, 1), norm='l2', preprocessor=None, smooth_i...logistic', reg_alpha=0, reg_lambda=1,\n",
       "       scale_pos_weight=1, seed=0, silent=True, subsample=1))]),\n",
       "       fit_params=None, iid=True, n_jobs=-1,\n",
       "       param_grid={'xgbclassifier__colsample_bytree': [0.7, 0.9], 'xgbclassifier__max_depth': [6, 10], 'xgbclassifier__learning_rate': [0.02, 0.05, 0.1], 'xgbclassifier__subsample': [0.5, 0.8, 1], 'xgbclassifier__min_child_weight': [1, 2], 'xgbclassifier__n_estimators': [100, 500, 1000]},\n",
       "       pre_dispatch='2*n_jobs', refit=True, return_train_score=True,\n",
       "       scoring='roc_auc', verbose=1)"
      ]
     },
     "execution_count": 77,
     "metadata": {},
     "output_type": "execute_result"
    }
   ],
   "source": [
    "np.random.seed(1)\n",
    "\n",
    "all_models['xgb_tfidf'] = {}\n",
    "\n",
    "pipeline_tfidf_xgb = make_pipeline(vectorizer_tfidf, CSCTransformer(), XGBClassifier())\n",
    "parameters = {'xgbclassifier__learning_rate': [0.02, 0.05, 0.1], #`eta` value\n",
    "              'xgbclassifier__min_child_weight': [1, 2],\n",
    "              'xgbclassifier__max_depth': [6, 10],       \n",
    "              'xgbclassifier__subsample': [0.5, 0.8, 1],\n",
    "              'xgbclassifier__colsample_bytree': [0.7, 0.9],\n",
    "              'xgbclassifier__n_estimators': [100, 500, 1000], #number of trees\n",
    "}\n",
    "all_models['xgb_tfidf']['model'] = GridSearchCV(pipeline_tfidf_xgb,\n",
    "                                                param_grid = parameters, \n",
    "                                                cv = kfolds,\n",
    "                                                scoring=\"roc_auc\",\n",
    "                                                verbose=1,   \n",
    "                                                n_jobs=-1) \n",
    "\n",
    "\n",
    "\n",
    "all_models['xgb_tfidf']['model'].fit(X_train, y_train)\n",
    "\n"
   ]
  },
  {
   "cell_type": "code",
   "execution_count": 78,
   "metadata": {},
   "outputs": [
    {
     "data": {
      "text/plain": [
       "{'acc': 0.84218235078725745,\n",
       " 'auc': 0.90765703076331727,\n",
       " 'f1': 0.88310279359913213,\n",
       " 'precision': 0.87105403959336547,\n",
       " 'recall': 0.89548954895489552}"
      ]
     },
     "execution_count": 78,
     "metadata": {},
     "output_type": "execute_result"
    }
   ],
   "source": [
    "all_models['xgb_tfidf']['result'] = report_results(all_models['xgb_tfidf']['model'], X_test, y_test)\n",
    "all_models['xgb_tfidf']['result']"
   ]
  },
  {
   "cell_type": "code",
   "execution_count": 79,
   "metadata": {
    "collapsed": true
   },
   "outputs": [],
   "source": [
    "all_models['xgb_tfidf']['roc_curve'] = get_roc_curve(all_models['xgb_tfidf']['model'], X_test, y_test)"
   ]
  },
  {
   "cell_type": "code",
   "execution_count": 80,
   "metadata": {},
   "outputs": [
    {
     "data": {
      "text/plain": [
       "{'xgbclassifier__colsample_bytree': 0.7,\n",
       " 'xgbclassifier__learning_rate': 0.1,\n",
       " 'xgbclassifier__max_depth': 6,\n",
       " 'xgbclassifier__min_child_weight': 1,\n",
       " 'xgbclassifier__n_estimators': 1000,\n",
       " 'xgbclassifier__subsample': 1}"
      ]
     },
     "execution_count": 80,
     "metadata": {},
     "output_type": "execute_result"
    }
   ],
   "source": [
    "all_models['xgb_tfidf']['model'].best_params_"
   ]
  },
  {
   "cell_type": "code",
   "execution_count": 81,
   "metadata": {
    "collapsed": true
   },
   "outputs": [],
   "source": [
    "all_models['xgb_tfidf']['train_preds'] = all_models['xgb_tfidf']['model'].predict_proba(X_train)[:, 1]"
   ]
  },
  {
   "cell_type": "markdown",
   "metadata": {},
   "source": [
    "### Deep Learning"
   ]
  },
  {
   "cell_type": "code",
   "execution_count": 82,
   "metadata": {},
   "outputs": [
    {
     "name": "stdout",
     "output_type": "stream",
     "text": [
      "Train on 8736 samples, validate on 2184 samples\n",
      "Epoch 1/100\n",
      "8736/8736 [==============================] - 2s - loss: 0.6361 - acc: 0.6407 - val_loss: 0.6058 - val_acc: 0.6328\n",
      "Epoch 2/100\n",
      "8736/8736 [==============================] - 1s - loss: 0.5627 - acc: 0.6708 - val_loss: 0.5520 - val_acc: 0.6923\n",
      "Epoch 3/100\n",
      "8736/8736 [==============================] - 1s - loss: 0.4982 - acc: 0.7596 - val_loss: 0.4981 - val_acc: 0.7610\n",
      "Epoch 4/100\n",
      "8736/8736 [==============================] - 1s - loss: 0.4385 - acc: 0.8268 - val_loss: 0.4522 - val_acc: 0.8017\n",
      "Epoch 5/100\n",
      "8736/8736 [==============================] - 1s - loss: 0.3890 - acc: 0.8585 - val_loss: 0.4174 - val_acc: 0.8233\n",
      "Epoch 6/100\n",
      "8736/8736 [==============================] - 1s - loss: 0.3501 - acc: 0.8757 - val_loss: 0.3925 - val_acc: 0.8260\n",
      "Epoch 7/100\n",
      "8736/8736 [==============================] - 1s - loss: 0.3193 - acc: 0.8847 - val_loss: 0.3732 - val_acc: 0.8375\n",
      "Epoch 8/100\n",
      "8736/8736 [==============================] - 1s - loss: 0.2943 - acc: 0.8911 - val_loss: 0.3595 - val_acc: 0.8402\n",
      "Epoch 9/100\n",
      "8736/8736 [==============================] - 1s - loss: 0.2731 - acc: 0.8992 - val_loss: 0.3488 - val_acc: 0.8462\n",
      "Epoch 10/100\n",
      "8736/8736 [==============================] - 1s - loss: 0.2555 - acc: 0.9053 - val_loss: 0.3426 - val_acc: 0.8475\n",
      "Epoch 11/100\n",
      "8736/8736 [==============================] - 1s - loss: 0.2406 - acc: 0.9099 - val_loss: 0.3379 - val_acc: 0.8512\n",
      "Epoch 12/100\n",
      "8736/8736 [==============================] - 1s - loss: 0.2272 - acc: 0.9151 - val_loss: 0.3350 - val_acc: 0.8507\n",
      "Epoch 13/100\n",
      "8736/8736 [==============================] - 1s - loss: 0.2153 - acc: 0.9185 - val_loss: 0.3331 - val_acc: 0.8530\n",
      "Epoch 14/100\n",
      "8736/8736 [==============================] - 1s - loss: 0.2048 - acc: 0.9245 - val_loss: 0.3331 - val_acc: 0.8526\n",
      "Epoch 15/100\n",
      "8736/8736 [==============================] - 1s - loss: 0.1953 - acc: 0.9274 - val_loss: 0.3347 - val_acc: 0.8544\n",
      "Epoch 16/100\n",
      "8736/8736 [==============================] - 1s - loss: 0.1866 - acc: 0.9314 - val_loss: 0.3365 - val_acc: 0.8567\n"
     ]
    }
   ],
   "source": [
    "np.random.seed(1)\n",
    "\n",
    "vec = vectorizer_tfidf.fit(X_train)\n",
    "X_train_dense = vec.transform(X_train).toarray() \n",
    "X_test_dense = vec.transform(X_test).toarray() \n",
    "\n",
    "model_nn_tfidf = build_nn_model(len(vec.vocabulary_.keys()))\n",
    "\n",
    "history = model_nn_tfidf.fit(X_train_dense, y_train, validation_split=0.2, \n",
    "                       class_weight=class_weight,\n",
    "                       epochs=100, batch_size=100, callbacks=[early_stopping], verbose=1)"
   ]
  },
  {
   "cell_type": "code",
   "execution_count": 83,
   "metadata": {},
   "outputs": [
    {
     "data": {
      "image/png": "[encoded data removed]",
      "text/plain": [
       "<matplotlib.figure.Figure at 0x155a30d30>"
      ]
     },
     "metadata": {},
     "output_type": "display_data"
    },
    {
     "data": {
      "image/png": "[encoded data removed]",
      "text/plain": [
       "<matplotlib.figure.Figure at 0x162fa49b0>"
      ]
     },
     "metadata": {},
     "output_type": "display_data"
    }
   ],
   "source": [
    "# summarize history for accuracy\n",
    "plt.plot(history.history['acc'])\n",
    "plt.plot(history.history['val_acc'])\n",
    "plt.title('model accuracy')\n",
    "plt.ylabel('accuracy')\n",
    "plt.xlabel('epoch')\n",
    "plt.legend(['train', 'validation'], loc='upper left')\n",
    "plt.show()\n",
    "# summarize history for loss\n",
    "plt.plot(history.history['loss'])\n",
    "plt.plot(history.history['val_loss'])\n",
    "plt.title('model loss')\n",
    "plt.ylabel('loss')\n",
    "plt.xlabel('epoch')\n",
    "plt.legend(['train', 'validation'], loc='upper left')\n",
    "plt.show()"
   ]
  },
  {
   "cell_type": "code",
   "execution_count": 84,
   "metadata": {},
   "outputs": [
    {
     "name": "stdout",
     "output_type": "stream",
     "text": [
      "Training accuracy: 93.14% / Validation accuracy: 85.67%\n"
     ]
    }
   ],
   "source": [
    "print(\"Training accuracy: %.2f%% / Validation accuracy: %.2f%%\" % \n",
    "      (100*history.history['acc'][-1], 100*history.history['val_acc'][-1]))"
   ]
  },
  {
   "cell_type": "code",
   "execution_count": 85,
   "metadata": {},
   "outputs": [
    {
     "data": {
      "text/plain": [
       "{'acc': 0.86232149395825708,\n",
       " 'auc': 0.9227784224205553,\n",
       " 'f1': 0.89771490750816108,\n",
       " 'precision': 0.88805166846071049,\n",
       " 'recall': 0.90759075907590758}"
      ]
     },
     "execution_count": 85,
     "metadata": {},
     "output_type": "execute_result"
    }
   ],
   "source": [
    "all_models['nn_tfidf'] = {}\n",
    "all_models['nn_tfidf']['model'] = model_nn_tfidf\n",
    "all_models['nn_tfidf']['result'] = report_results(all_models['nn_tfidf']['model'], \n",
    "                                                  X_test_dense, y_test, neural_network=True)\n",
    "all_models['nn_tfidf']['roc_curve'] = get_roc_curve(all_models['nn_tfidf']['model'], \n",
    "                                                    X_test_dense, y_test, neural_network=True)\n",
    "all_models['nn_tfidf']['result']"
   ]
  },
  {
   "cell_type": "code",
   "execution_count": 86,
   "metadata": {
    "collapsed": true
   },
   "outputs": [],
   "source": [
    "all_models['nn_tfidf']['train_preds'] = all_models['nn_tfidf']['model'].predict(X_train_dense).flatten()"
   ]
  },
  {
   "cell_type": "markdown",
   "metadata": {},
   "source": [
    "### SVM better"
   ]
  },
  {
   "cell_type": "markdown",
   "metadata": {},
   "source": [
    "We decided to try another model: a SVM model exploring a bigger range of hyperparamenter combinations expecially those related with the data codification process. It have taken a lot of time to train, but it has achieved the best results:"
   ]
  },
  {
   "cell_type": "code",
   "execution_count": 87,
   "metadata": {
    "collapsed": true
   },
   "outputs": [],
   "source": [
    "parameters_vectorizer = {\n",
    "    'countvectorizer__analyzer': ['word', stem],    \n",
    "    'countvectorizer__max_df': [0.5, 0.9],\n",
    "    'countvectorizer__min_df': [10, 20, 50],\n",
    "    'countvectorizer__max_features': [1000, 5000, 10000, None],\n",
    "    'countvectorizer__ngram_range': ((1, 1), (2, 2))\n",
    "}    \n",
    "\n"
   ]
  },
  {
   "cell_type": "code",
   "execution_count": 88,
   "metadata": {},
   "outputs": [
    {
     "name": "stdout",
     "output_type": "stream",
     "text": [
      "Fitting 5 folds for each of 384 candidates, totalling 1920 fits\n"
     ]
    },
    {
     "name": "stderr",
     "output_type": "stream",
     "text": [
      "[Parallel(n_jobs=-1)]: Done  42 tasks      | elapsed: 15.0min\n",
      "[Parallel(n_jobs=-1)]: Done 192 tasks      | elapsed: 58.1min\n",
      "[Parallel(n_jobs=-1)]: Done 442 tasks      | elapsed: 125.3min\n",
      "[Parallel(n_jobs=-1)]: Done 792 tasks      | elapsed: 231.6min\n",
      "[Parallel(n_jobs=-1)]: Done 1242 tasks      | elapsed: 477.1min\n",
      "[Parallel(n_jobs=-1)]: Done 1792 tasks      | elapsed: 871.5min\n",
      "[Parallel(n_jobs=-1)]: Done 1920 out of 1920 | elapsed: 966.6min finished\n"
     ]
    }
   ],
   "source": [
    "np.random.seed(1)\n",
    "\n",
    "bb_model = model_generator(X_train, y_train, vectorizer, \n",
    "                                    SVC(probability=True, kernel=\"linear\", class_weight=\"balanced\"), \n",
    "                                    {'svc__C': [.1, 1, 10, 20]}, \n",
    "                                    kfolds, parameters_vectorizer, random_seed=1)"
   ]
  },
  {
   "cell_type": "code",
   "execution_count": 89,
   "metadata": {},
   "outputs": [
    {
     "data": {
      "text/plain": [
       "{'acc': 0.84181618454778473,\n",
       " 'auc': 0.92523529461379872,\n",
       " 'f1': 0.87470997679814388,\n",
       " 'precision': 0.92515337423312882,\n",
       " 'recall': 0.82948294829482949}"
      ]
     },
     "execution_count": 89,
     "metadata": {},
     "output_type": "execute_result"
    }
   ],
   "source": [
    "bb_res = report_results(bb_model, X_test, y_test)\n",
    "bb_res"
   ]
  },
  {
   "cell_type": "code",
   "execution_count": 90,
   "metadata": {},
   "outputs": [
    {
     "data": {
      "text/plain": [
       "{'countvectorizer__analyzer': <function __main__.stem>,\n",
       " 'countvectorizer__max_df': 0.5,\n",
       " 'countvectorizer__max_features': 5000,\n",
       " 'countvectorizer__min_df': 10,\n",
       " 'countvectorizer__ngram_range': (1, 1),\n",
       " 'svc__C': 0.1}"
      ]
     },
     "execution_count": 90,
     "metadata": {},
     "output_type": "execute_result"
    }
   ],
   "source": [
    "bb_model.best_params_"
   ]
  },
  {
   "cell_type": "code",
   "execution_count": 91,
   "metadata": {},
   "outputs": [
    {
     "data": {
      "text/plain": [
       "0.91674856732185017"
      ]
     },
     "execution_count": 91,
     "metadata": {},
     "output_type": "execute_result"
    }
   ],
   "source": [
    "bb_model.best_score_"
   ]
  },
  {
   "cell_type": "code",
   "execution_count": 92,
   "metadata": {},
   "outputs": [
    {
     "data": {
      "text/plain": [
       "{'acc': 0.84181618454778473,\n",
       " 'auc': 0.92523529461379872,\n",
       " 'f1': 0.87470997679814388,\n",
       " 'precision': 0.92515337423312882,\n",
       " 'recall': 0.82948294829482949}"
      ]
     },
     "execution_count": 92,
     "metadata": {},
     "output_type": "execute_result"
    }
   ],
   "source": [
    "all_models['svm_best'] = {}\n",
    "all_models['svm_best']['model'] = bb_model\n",
    "all_models['svm_best']['result'] = report_results(all_models['svm_best']['model'], X_test, y_test)\n",
    "all_models['svm_best']['roc_curve'] = get_roc_curve(all_models['svm_best']['model'], X_test, y_test)\n",
    "all_models['svm_best']['result']"
   ]
  },
  {
   "cell_type": "code",
   "execution_count": 93,
   "metadata": {
    "collapsed": true
   },
   "outputs": [],
   "source": [
    "all_models['svm_best']['train_preds'] = all_models['svm_best']['model'].predict(X_train).flatten()"
   ]
  },
  {
   "cell_type": "markdown",
   "metadata": {},
   "source": [
    "# Models comparison"
   ]
  },
  {
   "cell_type": "code",
   "execution_count": 94,
   "metadata": {
    "collapsed": true
   },
   "outputs": [],
   "source": [
    "all_models_name = all_models.keys()\n",
    "\n",
    "tmp_list = []\n",
    "for mo in all_models_name:\n",
    "    tmp_list.append(all_models[mo]['result'])\n",
    "models_results = pd.DataFrame(dict(zip(all_models_name, tmp_list))).transpose()    "
   ]
  },
  {
   "cell_type": "code",
   "execution_count": 95,
   "metadata": {},
   "outputs": [
    {
     "data": {
      "text/html": [
       "<div>\n",
       "<style>\n",
       "    .dataframe thead tr:only-child th {\n",
       "        text-align: right;\n",
       "    }\n",
       "\n",
       "    .dataframe thead th {\n",
       "        text-align: left;\n",
       "    }\n",
       "\n",
       "    .dataframe tbody tr th {\n",
       "        vertical-align: top;\n",
       "    }\n",
       "</style>\n",
       "<table border=\"1\" class=\"dataframe\">\n",
       "  <thead>\n",
       "    <tr style=\"text-align: right;\">\n",
       "      <th></th>\n",
       "      <th>acc</th>\n",
       "      <th>auc</th>\n",
       "      <th>f1</th>\n",
       "      <th>precision</th>\n",
       "      <th>recall</th>\n",
       "    </tr>\n",
       "  </thead>\n",
       "  <tbody>\n",
       "    <tr>\n",
       "      <th>svm_best</th>\n",
       "      <td>0.841816</td>\n",
       "      <td>0.925235</td>\n",
       "      <td>0.874710</td>\n",
       "      <td>0.925153</td>\n",
       "      <td>0.829483</td>\n",
       "    </tr>\n",
       "    <tr>\n",
       "      <th>nn_tfidf</th>\n",
       "      <td>0.862321</td>\n",
       "      <td>0.922778</td>\n",
       "      <td>0.897715</td>\n",
       "      <td>0.888052</td>\n",
       "      <td>0.907591</td>\n",
       "    </tr>\n",
       "    <tr>\n",
       "      <th>nn</th>\n",
       "      <td>0.857927</td>\n",
       "      <td>0.922017</td>\n",
       "      <td>0.892995</td>\n",
       "      <td>0.895465</td>\n",
       "      <td>0.890539</td>\n",
       "    </tr>\n",
       "    <tr>\n",
       "      <th>svm</th>\n",
       "      <td>0.836324</td>\n",
       "      <td>0.920276</td>\n",
       "      <td>0.871144</td>\n",
       "      <td>0.915203</td>\n",
       "      <td>0.831133</td>\n",
       "    </tr>\n",
       "    <tr>\n",
       "      <th>lr</th>\n",
       "      <td>0.841450</td>\n",
       "      <td>0.919837</td>\n",
       "      <td>0.875967</td>\n",
       "      <td>0.913927</td>\n",
       "      <td>0.841034</td>\n",
       "    </tr>\n",
       "    <tr>\n",
       "      <th>svm_tfidf</th>\n",
       "      <td>0.845112</td>\n",
       "      <td>0.918636</td>\n",
       "      <td>0.881213</td>\n",
       "      <td>0.900172</td>\n",
       "      <td>0.863036</td>\n",
       "    </tr>\n",
       "    <tr>\n",
       "      <th>lr_tfidf</th>\n",
       "      <td>0.842915</td>\n",
       "      <td>0.916944</td>\n",
       "      <td>0.879596</td>\n",
       "      <td>0.897994</td>\n",
       "      <td>0.861936</td>\n",
       "    </tr>\n",
       "    <tr>\n",
       "      <th>rf</th>\n",
       "      <td>0.851337</td>\n",
       "      <td>0.914992</td>\n",
       "      <td>0.891676</td>\n",
       "      <td>0.865803</td>\n",
       "      <td>0.919142</td>\n",
       "    </tr>\n",
       "    <tr>\n",
       "      <th>xgb</th>\n",
       "      <td>0.846576</td>\n",
       "      <td>0.913975</td>\n",
       "      <td>0.885675</td>\n",
       "      <td>0.878722</td>\n",
       "      <td>0.892739</td>\n",
       "    </tr>\n",
       "    <tr>\n",
       "      <th>rf_tfidf</th>\n",
       "      <td>0.849140</td>\n",
       "      <td>0.912773</td>\n",
       "      <td>0.891807</td>\n",
       "      <td>0.853266</td>\n",
       "      <td>0.933993</td>\n",
       "    </tr>\n",
       "    <tr>\n",
       "      <th>nb</th>\n",
       "      <td>0.845112</td>\n",
       "      <td>0.911674</td>\n",
       "      <td>0.890500</td>\n",
       "      <td>0.841076</td>\n",
       "      <td>0.946095</td>\n",
       "    </tr>\n",
       "    <tr>\n",
       "      <th>nb_tfidf</th>\n",
       "      <td>0.806298</td>\n",
       "      <td>0.910333</td>\n",
       "      <td>0.871820</td>\n",
       "      <td>0.779125</td>\n",
       "      <td>0.989549</td>\n",
       "    </tr>\n",
       "    <tr>\n",
       "      <th>xgb_tfidf</th>\n",
       "      <td>0.842182</td>\n",
       "      <td>0.907657</td>\n",
       "      <td>0.883103</td>\n",
       "      <td>0.871054</td>\n",
       "      <td>0.895490</td>\n",
       "    </tr>\n",
       "  </tbody>\n",
       "</table>\n",
       "</div>"
      ],
      "text/plain": [
       "                acc       auc        f1  precision    recall\n",
       "svm_best   0.841816  0.925235  0.874710   0.925153  0.829483\n",
       "nn_tfidf   0.862321  0.922778  0.897715   0.888052  0.907591\n",
       "nn         0.857927  0.922017  0.892995   0.895465  0.890539\n",
       "svm        0.836324  0.920276  0.871144   0.915203  0.831133\n",
       "lr         0.841450  0.919837  0.875967   0.913927  0.841034\n",
       "svm_tfidf  0.845112  0.918636  0.881213   0.900172  0.863036\n",
       "lr_tfidf   0.842915  0.916944  0.879596   0.897994  0.861936\n",
       "rf         0.851337  0.914992  0.891676   0.865803  0.919142\n",
       "xgb        0.846576  0.913975  0.885675   0.878722  0.892739\n",
       "rf_tfidf   0.849140  0.912773  0.891807   0.853266  0.933993\n",
       "nb         0.845112  0.911674  0.890500   0.841076  0.946095\n",
       "nb_tfidf   0.806298  0.910333  0.871820   0.779125  0.989549\n",
       "xgb_tfidf  0.842182  0.907657  0.883103   0.871054  0.895490"
      ]
     },
     "execution_count": 95,
     "metadata": {},
     "output_type": "execute_result"
    }
   ],
   "source": [
    "models_results = models_results.sort_values(['auc'], ascending=False)\n",
    "models_results"
   ]
  },
  {
   "cell_type": "markdown",
   "metadata": {},
   "source": [
    "Let's see the roc curves:"
   ]
  },
  {
   "cell_type": "code",
   "execution_count": 96,
   "metadata": {},
   "outputs": [
    {
     "data": {
      "image/png": "[encoded data removed]",
      "text/plain": [
       "<matplotlib.figure.Figure at 0x1633577f0>"
      ]
     },
     "metadata": {},
     "output_type": "display_data"
    }
   ],
   "source": [
    "from matplotlib import cm\n",
    "\n",
    "tmp_models = models_results.index\n",
    "\n",
    "colors = cm.rainbow(np.linspace(0.0, 1.0, len(tmp_models)))\n",
    "\n",
    "\n",
    "plt.figure(figsize=(14,8))\n",
    "lw = 2\n",
    "\n",
    "for mo, color in zip(tmp_models, colors):\n",
    "    fpr, tpr = all_models[mo]['roc_curve']\n",
    "    plt.plot(fpr, tpr, color=color,\n",
    "         lw=lw, label='{} (auc = {:.4f})'.format(mo, all_models[mo]['result']['auc']))\n",
    "\n",
    "\n",
    "\n",
    "plt.plot([0, 1], [0, 1], color='black', lw=lw, linestyle='--')\n",
    "plt.xlim([0.0, 1.0])\n",
    "plt.ylim([0.0, 1.05])\n",
    "plt.xlabel('False Positive Rate')\n",
    "plt.ylabel('True Positive Rate')\n",
    "plt.title('Roc curve')\n",
    "plt.legend(loc=\"lower right\")\n",
    "\n",
    "plt.savefig('../output/plots/roc-curves.png')\n",
    "\n",
    "plt.show()\n",
    "\n"
   ]
  },
  {
   "cell_type": "markdown",
   "metadata": {},
   "source": [
    "Let's see correlation between models:"
   ]
  },
  {
   "cell_type": "code",
   "execution_count": 97,
   "metadata": {
    "collapsed": true
   },
   "outputs": [],
   "source": [
    "corr_dict = {}\n",
    "for mo in tmp_models:\n",
    "    corr_dict[mo] = all_models[mo]['train_preds'] "
   ]
  },
  {
   "cell_type": "code",
   "execution_count": 98,
   "metadata": {
    "collapsed": true
   },
   "outputs": [],
   "source": [
    "kdata_proba = pd.DataFrame(corr_dict)"
   ]
  },
  {
   "cell_type": "code",
   "execution_count": 99,
   "metadata": {},
   "outputs": [
    {
     "data": {
      "text/html": [
       "<div>\n",
       "<style>\n",
       "    .dataframe thead tr:only-child th {\n",
       "        text-align: right;\n",
       "    }\n",
       "\n",
       "    .dataframe thead th {\n",
       "        text-align: left;\n",
       "    }\n",
       "\n",
       "    .dataframe tbody tr th {\n",
       "        vertical-align: top;\n",
       "    }\n",
       "</style>\n",
       "<table border=\"1\" class=\"dataframe\">\n",
       "  <thead>\n",
       "    <tr style=\"text-align: right;\">\n",
       "      <th></th>\n",
       "      <th>lr</th>\n",
       "      <th>lr_tfidf</th>\n",
       "      <th>nb</th>\n",
       "      <th>nb_tfidf</th>\n",
       "      <th>nn</th>\n",
       "      <th>nn_tfidf</th>\n",
       "      <th>rf</th>\n",
       "      <th>rf_tfidf</th>\n",
       "      <th>svm</th>\n",
       "      <th>svm_best</th>\n",
       "      <th>svm_tfidf</th>\n",
       "      <th>xgb</th>\n",
       "      <th>xgb_tfidf</th>\n",
       "    </tr>\n",
       "  </thead>\n",
       "  <tbody>\n",
       "    <tr>\n",
       "      <th>lr</th>\n",
       "      <td>1.000000</td>\n",
       "      <td>0.986964</td>\n",
       "      <td>0.906744</td>\n",
       "      <td>0.900434</td>\n",
       "      <td>0.965678</td>\n",
       "      <td>0.960437</td>\n",
       "      <td>0.936353</td>\n",
       "      <td>0.935927</td>\n",
       "      <td>0.981921</td>\n",
       "      <td>0.846939</td>\n",
       "      <td>0.978194</td>\n",
       "      <td>0.958241</td>\n",
       "      <td>0.955210</td>\n",
       "    </tr>\n",
       "    <tr>\n",
       "      <th>lr_tfidf</th>\n",
       "      <td>0.986964</td>\n",
       "      <td>1.000000</td>\n",
       "      <td>0.903586</td>\n",
       "      <td>0.899943</td>\n",
       "      <td>0.949749</td>\n",
       "      <td>0.958187</td>\n",
       "      <td>0.959104</td>\n",
       "      <td>0.958716</td>\n",
       "      <td>0.960728</td>\n",
       "      <td>0.828689</td>\n",
       "      <td>0.984664</td>\n",
       "      <td>0.943737</td>\n",
       "      <td>0.950610</td>\n",
       "    </tr>\n",
       "    <tr>\n",
       "      <th>nb</th>\n",
       "      <td>0.906744</td>\n",
       "      <td>0.903586</td>\n",
       "      <td>1.000000</td>\n",
       "      <td>0.943348</td>\n",
       "      <td>0.912866</td>\n",
       "      <td>0.926041</td>\n",
       "      <td>0.870252</td>\n",
       "      <td>0.870145</td>\n",
       "      <td>0.915914</td>\n",
       "      <td>0.775821</td>\n",
       "      <td>0.917092</td>\n",
       "      <td>0.887583</td>\n",
       "      <td>0.875540</td>\n",
       "    </tr>\n",
       "    <tr>\n",
       "      <th>nb_tfidf</th>\n",
       "      <td>0.900434</td>\n",
       "      <td>0.899943</td>\n",
       "      <td>0.943348</td>\n",
       "      <td>1.000000</td>\n",
       "      <td>0.906366</td>\n",
       "      <td>0.920275</td>\n",
       "      <td>0.865592</td>\n",
       "      <td>0.866130</td>\n",
       "      <td>0.906185</td>\n",
       "      <td>0.767160</td>\n",
       "      <td>0.905145</td>\n",
       "      <td>0.893243</td>\n",
       "      <td>0.877291</td>\n",
       "    </tr>\n",
       "    <tr>\n",
       "      <th>nn</th>\n",
       "      <td>0.965678</td>\n",
       "      <td>0.949749</td>\n",
       "      <td>0.912866</td>\n",
       "      <td>0.906366</td>\n",
       "      <td>1.000000</td>\n",
       "      <td>0.990949</td>\n",
       "      <td>0.896354</td>\n",
       "      <td>0.896487</td>\n",
       "      <td>0.965499</td>\n",
       "      <td>0.833690</td>\n",
       "      <td>0.957433</td>\n",
       "      <td>0.936050</td>\n",
       "      <td>0.927009</td>\n",
       "    </tr>\n",
       "    <tr>\n",
       "      <th>nn_tfidf</th>\n",
       "      <td>0.960437</td>\n",
       "      <td>0.958187</td>\n",
       "      <td>0.926041</td>\n",
       "      <td>0.920275</td>\n",
       "      <td>0.990949</td>\n",
       "      <td>1.000000</td>\n",
       "      <td>0.906673</td>\n",
       "      <td>0.906601</td>\n",
       "      <td>0.958978</td>\n",
       "      <td>0.827583</td>\n",
       "      <td>0.966417</td>\n",
       "      <td>0.932099</td>\n",
       "      <td>0.925736</td>\n",
       "    </tr>\n",
       "    <tr>\n",
       "      <th>rf</th>\n",
       "      <td>0.936353</td>\n",
       "      <td>0.959104</td>\n",
       "      <td>0.870252</td>\n",
       "      <td>0.865592</td>\n",
       "      <td>0.896354</td>\n",
       "      <td>0.906673</td>\n",
       "      <td>1.000000</td>\n",
       "      <td>0.997824</td>\n",
       "      <td>0.902825</td>\n",
       "      <td>0.788354</td>\n",
       "      <td>0.932578</td>\n",
       "      <td>0.916783</td>\n",
       "      <td>0.945820</td>\n",
       "    </tr>\n",
       "    <tr>\n",
       "      <th>rf_tfidf</th>\n",
       "      <td>0.935927</td>\n",
       "      <td>0.958716</td>\n",
       "      <td>0.870145</td>\n",
       "      <td>0.866130</td>\n",
       "      <td>0.896487</td>\n",
       "      <td>0.906601</td>\n",
       "      <td>0.997824</td>\n",
       "      <td>1.000000</td>\n",
       "      <td>0.902210</td>\n",
       "      <td>0.787138</td>\n",
       "      <td>0.932226</td>\n",
       "      <td>0.915336</td>\n",
       "      <td>0.946571</td>\n",
       "    </tr>\n",
       "    <tr>\n",
       "      <th>svm</th>\n",
       "      <td>0.981921</td>\n",
       "      <td>0.960728</td>\n",
       "      <td>0.915914</td>\n",
       "      <td>0.906185</td>\n",
       "      <td>0.965499</td>\n",
       "      <td>0.958978</td>\n",
       "      <td>0.902825</td>\n",
       "      <td>0.902210</td>\n",
       "      <td>1.000000</td>\n",
       "      <td>0.852699</td>\n",
       "      <td>0.977612</td>\n",
       "      <td>0.954040</td>\n",
       "      <td>0.942737</td>\n",
       "    </tr>\n",
       "    <tr>\n",
       "      <th>svm_best</th>\n",
       "      <td>0.846939</td>\n",
       "      <td>0.828689</td>\n",
       "      <td>0.775821</td>\n",
       "      <td>0.767160</td>\n",
       "      <td>0.833690</td>\n",
       "      <td>0.827583</td>\n",
       "      <td>0.788354</td>\n",
       "      <td>0.787138</td>\n",
       "      <td>0.852699</td>\n",
       "      <td>1.000000</td>\n",
       "      <td>0.838003</td>\n",
       "      <td>0.825854</td>\n",
       "      <td>0.821058</td>\n",
       "    </tr>\n",
       "    <tr>\n",
       "      <th>svm_tfidf</th>\n",
       "      <td>0.978194</td>\n",
       "      <td>0.984664</td>\n",
       "      <td>0.917092</td>\n",
       "      <td>0.905145</td>\n",
       "      <td>0.957433</td>\n",
       "      <td>0.966417</td>\n",
       "      <td>0.932578</td>\n",
       "      <td>0.932226</td>\n",
       "      <td>0.977612</td>\n",
       "      <td>0.838003</td>\n",
       "      <td>1.000000</td>\n",
       "      <td>0.940369</td>\n",
       "      <td>0.940614</td>\n",
       "    </tr>\n",
       "    <tr>\n",
       "      <th>xgb</th>\n",
       "      <td>0.958241</td>\n",
       "      <td>0.943737</td>\n",
       "      <td>0.887583</td>\n",
       "      <td>0.893243</td>\n",
       "      <td>0.936050</td>\n",
       "      <td>0.932099</td>\n",
       "      <td>0.916783</td>\n",
       "      <td>0.915336</td>\n",
       "      <td>0.954040</td>\n",
       "      <td>0.825854</td>\n",
       "      <td>0.940369</td>\n",
       "      <td>1.000000</td>\n",
       "      <td>0.975514</td>\n",
       "    </tr>\n",
       "    <tr>\n",
       "      <th>xgb_tfidf</th>\n",
       "      <td>0.955210</td>\n",
       "      <td>0.950610</td>\n",
       "      <td>0.875540</td>\n",
       "      <td>0.877291</td>\n",
       "      <td>0.927009</td>\n",
       "      <td>0.925736</td>\n",
       "      <td>0.945820</td>\n",
       "      <td>0.946571</td>\n",
       "      <td>0.942737</td>\n",
       "      <td>0.821058</td>\n",
       "      <td>0.940614</td>\n",
       "      <td>0.975514</td>\n",
       "      <td>1.000000</td>\n",
       "    </tr>\n",
       "  </tbody>\n",
       "</table>\n",
       "</div>"
      ],
      "text/plain": [
       "                 lr  lr_tfidf        nb  nb_tfidf        nn  nn_tfidf  \\\n",
       "lr         1.000000  0.986964  0.906744  0.900434  0.965678  0.960437   \n",
       "lr_tfidf   0.986964  1.000000  0.903586  0.899943  0.949749  0.958187   \n",
       "nb         0.906744  0.903586  1.000000  0.943348  0.912866  0.926041   \n",
       "nb_tfidf   0.900434  0.899943  0.943348  1.000000  0.906366  0.920275   \n",
       "nn         0.965678  0.949749  0.912866  0.906366  1.000000  0.990949   \n",
       "nn_tfidf   0.960437  0.958187  0.926041  0.920275  0.990949  1.000000   \n",
       "rf         0.936353  0.959104  0.870252  0.865592  0.896354  0.906673   \n",
       "rf_tfidf   0.935927  0.958716  0.870145  0.866130  0.896487  0.906601   \n",
       "svm        0.981921  0.960728  0.915914  0.906185  0.965499  0.958978   \n",
       "svm_best   0.846939  0.828689  0.775821  0.767160  0.833690  0.827583   \n",
       "svm_tfidf  0.978194  0.984664  0.917092  0.905145  0.957433  0.966417   \n",
       "xgb        0.958241  0.943737  0.887583  0.893243  0.936050  0.932099   \n",
       "xgb_tfidf  0.955210  0.950610  0.875540  0.877291  0.927009  0.925736   \n",
       "\n",
       "                 rf  rf_tfidf       svm  svm_best  svm_tfidf       xgb  \\\n",
       "lr         0.936353  0.935927  0.981921  0.846939   0.978194  0.958241   \n",
       "lr_tfidf   0.959104  0.958716  0.960728  0.828689   0.984664  0.943737   \n",
       "nb         0.870252  0.870145  0.915914  0.775821   0.917092  0.887583   \n",
       "nb_tfidf   0.865592  0.866130  0.906185  0.767160   0.905145  0.893243   \n",
       "nn         0.896354  0.896487  0.965499  0.833690   0.957433  0.936050   \n",
       "nn_tfidf   0.906673  0.906601  0.958978  0.827583   0.966417  0.932099   \n",
       "rf         1.000000  0.997824  0.902825  0.788354   0.932578  0.916783   \n",
       "rf_tfidf   0.997824  1.000000  0.902210  0.787138   0.932226  0.915336   \n",
       "svm        0.902825  0.902210  1.000000  0.852699   0.977612  0.954040   \n",
       "svm_best   0.788354  0.787138  0.852699  1.000000   0.838003  0.825854   \n",
       "svm_tfidf  0.932578  0.932226  0.977612  0.838003   1.000000  0.940369   \n",
       "xgb        0.916783  0.915336  0.954040  0.825854   0.940369  1.000000   \n",
       "xgb_tfidf  0.945820  0.946571  0.942737  0.821058   0.940614  0.975514   \n",
       "\n",
       "           xgb_tfidf  \n",
       "lr          0.955210  \n",
       "lr_tfidf    0.950610  \n",
       "nb          0.875540  \n",
       "nb_tfidf    0.877291  \n",
       "nn          0.927009  \n",
       "nn_tfidf    0.925736  \n",
       "rf          0.945820  \n",
       "rf_tfidf    0.946571  \n",
       "svm         0.942737  \n",
       "svm_best    0.821058  \n",
       "svm_tfidf   0.940614  \n",
       "xgb         0.975514  \n",
       "xgb_tfidf   1.000000  "
      ]
     },
     "execution_count": 99,
     "metadata": {},
     "output_type": "execute_result"
    }
   ],
   "source": [
    "corr = kdata_proba.corr()\n",
    "corr"
   ]
  },
  {
   "cell_type": "code",
   "execution_count": 100,
   "metadata": {},
   "outputs": [
    {
     "data": {
      "image/png": "[encoded data removed]",
      "text/plain": [
       "<matplotlib.figure.Figure at 0x162d30128>"
      ]
     },
     "metadata": {},
     "output_type": "display_data"
    }
   ],
   "source": [
    "plt.figure(figsize=(14,8))\n",
    "sns.heatmap(corr, cmap=\"YlGnBu\")\n",
    "plt.show()"
   ]
  },
  {
   "cell_type": "markdown",
   "metadata": {},
   "source": [
    "# Stacked model"
   ]
  },
  {
   "cell_type": "code",
   "execution_count": 101,
   "metadata": {
    "collapsed": true
   },
   "outputs": [],
   "source": [
    "np.random.seed(1)\n",
    "\n",
    "from mlxtend.classifier import StackingClassifier\n",
    "\n",
    "lr_stack = LogisticRegression()\n",
    "\n",
    "\n",
    "clf_stack = StackingClassifier(classifiers = [all_models['svm_best']['model'].best_estimator_,\n",
    "                                              all_models['nb_tfidf']['model'].best_estimator_],\n",
    "                               use_probas = True, \n",
    "                               average_probas = False,    \n",
    "                               meta_classifier = lr_stack,\n",
    "                               verbose=1)\n"
   ]
  },
  {
   "cell_type": "code",
   "execution_count": 102,
   "metadata": {},
   "outputs": [
    {
     "name": "stdout",
     "output_type": "stream",
     "text": [
      "Fitting 2 classifiers...\n",
      "Fitting classifier1: pipeline (1/2)\n",
      "Fitting classifier2: pipeline (2/2)\n",
      "Fitting 2 classifiers...\n",
      "Fitting classifier1: pipeline (1/2)\n",
      "Fitting classifier2: pipeline (2/2)\n",
      "Fitting 2 classifiers...\n",
      "Fitting classifier1: pipeline (1/2)\n",
      "Fitting classifier2: pipeline (2/2)\n",
      "Fitting 2 classifiers...\n",
      "Fitting classifier1: pipeline (1/2)\n",
      "Fitting classifier2: pipeline (2/2)\n",
      "Fitting 2 classifiers...\n",
      "Fitting classifier1: pipeline (1/2)\n",
      "Fitting classifier2: pipeline (2/2)\n"
     ]
    }
   ],
   "source": [
    "from sklearn.model_selection import cross_val_score\n",
    "\n",
    "scores_stack = cross_val_score(clf_stack, X_train, y_train, \n",
    "                                               cv=kfolds, scoring='roc_auc')\n",
    "\n"
   ]
  },
  {
   "cell_type": "code",
   "execution_count": 103,
   "metadata": {
    "scrolled": true
   },
   "outputs": [
    {
     "name": "stdout",
     "output_type": "stream",
     "text": [
      "validation auc: 0.9249 (+/- 0.0049)\n"
     ]
    }
   ],
   "source": [
    "print(\"validation auc: {:0.4f} (+/- {:0.4f})\".format(np.mean(scores_stack), np.std(scores_stack)))"
   ]
  },
  {
   "cell_type": "code",
   "execution_count": 104,
   "metadata": {},
   "outputs": [
    {
     "name": "stdout",
     "output_type": "stream",
     "text": [
      "Fitting 2 classifiers...\n",
      "Fitting classifier1: pipeline (1/2)\n",
      "Fitting classifier2: pipeline (2/2)\n"
     ]
    },
    {
     "data": {
      "text/plain": [
       "{'acc': 0.87294031490296597,\n",
       " 'auc': 0.93153471973703383,\n",
       " 'f1': 0.90684563758389269,\n",
       " 'precision': 0.8856843209229156,\n",
       " 'recall': 0.92904290429042902}"
      ]
     },
     "execution_count": 104,
     "metadata": {},
     "output_type": "execute_result"
    }
   ],
   "source": [
    "clf_stack.fit(X_train, y_train)\n",
    "report_results(clf_stack, X_test, y_test)"
   ]
  },
  {
   "cell_type": "code",
   "execution_count": 105,
   "metadata": {},
   "outputs": [
    {
     "name": "stdout",
     "output_type": "stream",
     "text": [
      "Fitting 2 classifiers...\n",
      "Fitting classifier1: pipeline (1/2)\n",
      "Fitting 2 classifiers...\n",
      "Fitting classifier1: pipeline (1/2)\n",
      "Fitting 2 classifiers...\n",
      "Fitting classifier1: pipeline (1/2)\n",
      "Fitting 2 classifiers...\n",
      "Fitting classifier1: pipeline (1/2)\n",
      "Fitting classifier2: pipeline (2/2)\n",
      "Fitting classifier2: pipeline (2/2)\n",
      "Fitting 2 classifiers...\n",
      "Fitting classifier1: pipeline (1/2)\n",
      "Fitting classifier2: pipeline (2/2)\n",
      "Fitting 2 classifiers...\n",
      "Fitting classifier1: pipeline (1/2)\n",
      "Fitting classifier2: pipeline (2/2)\n",
      "Fitting 2 classifiers...\n",
      "Fitting classifier1: pipeline (1/2)\n",
      "Fitting classifier2: pipeline (2/2)\n",
      "Fitting 2 classifiers...\n",
      "Fitting classifier1: pipeline (1/2)\n",
      "Fitting classifier2: pipeline (2/2)\n",
      "Fitting 2 classifiers...\n",
      "Fitting classifier1: pipeline (1/2)\n",
      "Fitting classifier2: pipeline (2/2)\n",
      "Fitting 2 classifiers...\n",
      "Fitting classifier1: pipeline (1/2)\n",
      "Fitting classifier2: pipeline (2/2)\n",
      "Fitting 2 classifiers...\n",
      "Fitting classifier1: pipeline (1/2)\n",
      "Fitting classifier2: pipeline (2/2)\n",
      "Fitting 2 classifiers...\n",
      "Fitting classifier1: pipeline (1/2)\n",
      "Fitting classifier2: pipeline (2/2)\n",
      "Fitting 2 classifiers...\n",
      "Fitting classifier1: pipeline (1/2)\n",
      "Fitting classifier2: pipeline (2/2)\n",
      "Fitting classifier2: pipeline (2/2)\n",
      "Fitting 2 classifiers...\n",
      "Fitting classifier1: pipeline (1/2)\n",
      "Fitting 2 classifiers...\n",
      "Fitting classifier1: pipeline (1/2)\n",
      "Fitting classifier2: pipeline (2/2)\n",
      "Fitting 2 classifiers...\n",
      "Fitting classifier1: pipeline (1/2)\n",
      "Fitting classifier2: pipeline (2/2)\n",
      "Fitting classifier2: pipeline (2/2)\n",
      "Fitting 2 classifiers...\n",
      "Fitting classifier1: pipeline (1/2)\n",
      "Fitting 2 classifiers...\n",
      "Fitting classifier1: pipeline (1/2)\n",
      "Fitting classifier2: pipeline (2/2)\n",
      "Fitting classifier2: pipeline (2/2)\n",
      "Fitting 2 classifiers...\n",
      "Fitting classifier1: pipeline (1/2)\n",
      "Fitting 2 classifiers...\n",
      "Fitting classifier1: pipeline (1/2)\n",
      "Fitting classifier2: pipeline (2/2)\n",
      "Fitting 2 classifiers...\n",
      "Fitting classifier1: pipeline (1/2)\n",
      "Fitting classifier2: pipeline (2/2)\n",
      "Fitting 2 classifiers...\n",
      "Fitting classifier1: pipeline (1/2)\n",
      "Fitting classifier2: pipeline (2/2)\n",
      "Fitting 2 classifiers...\n",
      "Fitting classifier1: pipeline (1/2)\n",
      "Fitting classifier2: pipeline (2/2)\n",
      "Fitting 2 classifiers...\n",
      "Fitting classifier1: pipeline (1/2)\n",
      "Fitting 2 classifiers...\n",
      "Fitting classifier1: pipeline (1/2)\n",
      "Fitting classifier2: pipeline (2/2)\n",
      "Fitting classifier2: pipeline (2/2)\n",
      "Fitting 2 classifiers...\n",
      "Fitting classifier1: pipeline (1/2)\n",
      "Fitting classifier2: pipeline (2/2)\n",
      "Fitting classifier2: pipeline (2/2)\n",
      "Fitting 2 classifiers...\n",
      "Fitting classifier1: pipeline (1/2)\n",
      "Fitting 2 classifiers...\n",
      "Fitting classifier1: pipeline (1/2)\n",
      "Fitting classifier2: pipeline (2/2)\n",
      "Fitting 2 classifiers...\n",
      "Fitting classifier1: pipeline (1/2)\n",
      "Fitting 2 classifiers...\n",
      "Fitting classifier1: pipeline (1/2)\n",
      "Fitting classifier2: pipeline (2/2)\n",
      "Fitting classifier2: pipeline (2/2)\n",
      "Fitting 2 classifiers...\n",
      "Fitting classifier1: pipeline (1/2)\n",
      "Fitting classifier2: pipeline (2/2)\n",
      "Fitting 2 classifiers...\n",
      "Fitting classifier1: pipeline (1/2)\n",
      "Fitting classifier2: pipeline (2/2)\n",
      "Fitting 2 classifiers...\n",
      "Fitting classifier1: pipeline (1/2)\n",
      "Fitting 2 classifiers...\n",
      "Fitting classifier1: pipeline (1/2)\n",
      "Fitting classifier2: pipeline (2/2)\n",
      "Fitting classifier2: pipeline (2/2)\n",
      "Fitting 2 classifiers...\n",
      "Fitting classifier1: pipeline (1/2)\n",
      "Fitting classifier2: pipeline (2/2)\n",
      "Fitting classifier2: pipeline (2/2)\n",
      "Fitting 2 classifiers...\n",
      "Fitting classifier1: pipeline (1/2)\n",
      "Fitting classifier2: pipeline (2/2)\n",
      "Fitting 2 classifiers...\n",
      "Fitting classifier1: pipeline (1/2)\n",
      "Fitting 2 classifiers...\n",
      "Fitting classifier1: pipeline (1/2)\n",
      "Fitting classifier2: pipeline (2/2)\n",
      "Fitting 2 classifiers...\n",
      "Fitting classifier1: pipeline (1/2)\n",
      "Fitting 2 classifiers...\n",
      "Fitting classifier1: pipeline (1/2)\n",
      "Fitting classifier2: pipeline (2/2)\n",
      "Fitting classifier2: pipeline (2/2)\n",
      "Fitting 2 classifiers...\n",
      "Fitting classifier1: pipeline (1/2)\n",
      "Fitting classifier2: pipeline (2/2)\n",
      "Fitting 2 classifiers...\n",
      "Fitting classifier1: pipeline (1/2)\n",
      "Fitting classifier2: pipeline (2/2)\n",
      "Fitting 2 classifiers...\n",
      "Fitting classifier1: pipeline (1/2)\n",
      "Fitting 2 classifiers...\n",
      "Fitting classifier1: pipeline (1/2)\n",
      "Fitting classifier2: pipeline (2/2)\n",
      "Fitting classifier2: pipeline (2/2)\n",
      "Fitting 2 classifiers...\n",
      "Fitting classifier1: pipeline (1/2)\n",
      "Fitting classifier2: pipeline (2/2)\n",
      "Fitting classifier2: pipeline (2/2)\n",
      "Fitting 2 classifiers...\n",
      "Fitting classifier1: pipeline (1/2)\n",
      "Fitting classifier2: pipeline (2/2)\n",
      "Fitting 2 classifiers...\n",
      "Fitting classifier1: pipeline (1/2)\n",
      "Fitting 2 classifiers...\n",
      "Fitting classifier1: pipeline (1/2)\n",
      "Fitting classifier2: pipeline (2/2)\n",
      "Fitting 2 classifiers...\n",
      "Fitting classifier1: pipeline (1/2)\n",
      "Fitting 2 classifiers...\n",
      "Fitting classifier1: pipeline (1/2)\n",
      "Fitting classifier2: pipeline (2/2)\n",
      "Fitting classifier2: pipeline (2/2)\n",
      "Fitting classifier2: pipeline (2/2)\n",
      "Fitting classifier2: pipeline (2/2)\n"
     ]
    }
   ],
   "source": [
    "train_sizes, train_scores, test_scores = \\\n",
    "    learning_curve(clf_stack, X_train, y_train, cv=5, n_jobs=-1, \n",
    "                   scoring=\"roc_auc\", train_sizes=np.linspace(.1, 1.0, 10), random_state=1)\n",
    "    \n",
    "  "
   ]
  },
  {
   "cell_type": "code",
   "execution_count": 106,
   "metadata": {},
   "outputs": [
    {
     "data": {
      "image/png": "[encoded data removed]",
      "text/plain": [
       "<matplotlib.figure.Figure at 0x162aef2b0>"
      ]
     },
     "metadata": {},
     "output_type": "display_data"
    }
   ],
   "source": [
    "plot_learning_curve(X_train, y_train, train_sizes, \n",
    "                    train_scores, test_scores, ylim=(0.7, 1.01), figsize=(14,6))\n",
    "plt.show()  "
   ]
  },
  {
   "cell_type": "markdown",
   "metadata": {},
   "source": [
    "The stacked model is the best one, but one downside is than it is a bit slow compared with simpler models:"
   ]
  },
  {
   "cell_type": "code",
   "execution_count": 107,
   "metadata": {
    "collapsed": true
   },
   "outputs": [],
   "source": [
    "import time\n",
    "def get_time_performance(model, X_data):\n",
    "    \"\"\"Return the average number of predictions per second of the model using X_data \n",
    "    \n",
    "    Args:\n",
    "        model: machine learning model\n",
    "        X_data: data compatible with the model to do predictions on.\n",
    "\n",
    "    Returns:\n",
    "        float: Average number of predictions per second   \n",
    "    \"\"\"\n",
    "    \n",
    "    startTime = time.time()\n",
    "    _ = model.predict(X_data)\n",
    "    endTime = time.time()\n",
    "    result = (len(X_data)) / (endTime - startTime)\n",
    "    return result"
   ]
  },
  {
   "cell_type": "code",
   "execution_count": 108,
   "metadata": {},
   "outputs": [
    {
     "name": "stdout",
     "output_type": "stream",
     "text": [
      "Predictions per second: 1230.65\n"
     ]
    }
   ],
   "source": [
    "print(\"Predictions per second: {:.2f}\".format(get_time_performance(clf_stack, X_train)))"
   ]
  },
  {
   "cell_type": "code",
   "execution_count": 109,
   "metadata": {},
   "outputs": [
    {
     "name": "stdout",
     "output_type": "stream",
     "text": [
      "Predictions per second: 13294.81\n"
     ]
    }
   ],
   "source": [
    "print(\"Predictions per second: {:.2f}\".format(get_time_performance(all_models['lr']['model'], X_train)))"
   ]
  },
  {
   "cell_type": "code",
   "execution_count": 110,
   "metadata": {},
   "outputs": [
    {
     "data": {
      "text/plain": [
       "1106.7032741875998"
      ]
     },
     "execution_count": 110,
     "metadata": {},
     "output_type": "execute_result"
    }
   ],
   "source": [
    "(13503.44 / 1220.15)*100"
   ]
  },
  {
   "cell_type": "markdown",
   "metadata": {},
   "source": [
    "Let's see some predictions examples from our final model, the stacking model:"
   ]
  },
  {
   "cell_type": "code",
   "execution_count": 111,
   "metadata": {},
   "outputs": [
    {
     "data": {
      "text/plain": [
       "array([1])"
      ]
     },
     "execution_count": 111,
     "metadata": {},
     "output_type": "execute_result"
    }
   ],
   "source": [
    "clf_stack.predict([\"@united very bad experience!\"])"
   ]
  },
  {
   "cell_type": "code",
   "execution_count": 112,
   "metadata": {},
   "outputs": [
    {
     "data": {
      "text/plain": [
       "array([0])"
      ]
     },
     "execution_count": 112,
     "metadata": {},
     "output_type": "execute_result"
    }
   ],
   "source": [
    "clf_stack.predict([\"@united nice fly. Thanks\"])"
   ]
  },
  {
   "cell_type": "code",
   "execution_count": 113,
   "metadata": {},
   "outputs": [
    {
     "data": {
      "text/plain": [
       "array([1])"
      ]
     },
     "execution_count": 113,
     "metadata": {},
     "output_type": "execute_result"
    }
   ],
   "source": [
    "clf_stack.predict([\"@united I hate you. I will never fly again with this company!\"])"
   ]
  },
  {
   "cell_type": "code",
   "execution_count": 114,
   "metadata": {},
   "outputs": [
    {
     "data": {
      "text/plain": [
       "array([0])"
      ]
     },
     "execution_count": 114,
     "metadata": {},
     "output_type": "execute_result"
    }
   ],
   "source": [
    "clf_stack.predict([\"flying with @united is always a great experience\"])"
   ]
  },
  {
   "cell_type": "code",
   "execution_count": 115,
   "metadata": {},
   "outputs": [
    {
     "data": {
      "text/plain": [
       "array([1])"
      ]
     },
     "execution_count": 115,
     "metadata": {},
     "output_type": "execute_result"
    }
   ],
   "source": [
    "clf_stack.predict([\"flying with @united is always a great experience. If you don't lose your luggage\"])"
   ]
  },
  {
   "cell_type": "code",
   "execution_count": 116,
   "metadata": {},
   "outputs": [
    {
     "data": {
      "text/plain": [
       "array([1])"
      ]
     },
     "execution_count": 116,
     "metadata": {},
     "output_type": "execute_result"
    }
   ],
   "source": [
    "clf_stack.predict([\"@united the pilot was drunk\"])"
   ]
  },
  {
   "cell_type": "code",
   "execution_count": 117,
   "metadata": {},
   "outputs": [
    {
     "data": {
      "text/plain": [
       "array([0])"
      ]
     },
     "execution_count": 117,
     "metadata": {},
     "output_type": "execute_result"
    }
   ],
   "source": [
    "clf_stack.predict([\"I always prefer to fly with @united\"])"
   ]
  },
  {
   "cell_type": "code",
   "execution_count": 118,
   "metadata": {},
   "outputs": [
    {
     "data": {
      "text/plain": [
       "array([1])"
      ]
     },
     "execution_count": 118,
     "metadata": {},
     "output_type": "execute_result"
    }
   ],
   "source": [
    "clf_stack.predict([\"@united broke my guitar\"])"
   ]
  },
  {
   "cell_type": "code",
   "execution_count": 119,
   "metadata": {},
   "outputs": [
    {
     "data": {
      "text/plain": [
       "array([1])"
      ]
     },
     "execution_count": 119,
     "metadata": {},
     "output_type": "execute_result"
    }
   ],
   "source": [
    "clf_stack.predict([\"If @united were the only airline, I'd rather walk\"])"
   ]
  },
  {
   "cell_type": "code",
   "execution_count": 120,
   "metadata": {},
   "outputs": [
    {
     "data": {
      "text/plain": [
       "array([0])"
      ]
     },
     "execution_count": 120,
     "metadata": {},
     "output_type": "execute_result"
    }
   ],
   "source": [
    "clf_stack.predict([\"I love @united. Sorry, just kidding!\"])"
   ]
  }
 ],
 "metadata": {
  "kernelspec": {
   "display_name": "Python 3",
   "language": "python",
   "name": "python3"
  },
  "language_info": {
   "codemirror_mode": {
    "name": "ipython",
    "version": 3
   },
   "file_extension": ".py",
   "mimetype": "text/x-python",
   "name": "python",
   "nbconvert_exporter": "python",
   "pygments_lexer": "ipython3",
   "version": "3.5.3"
  }
 },
 "nbformat": 4,
 "nbformat_minor": 2
}
